{
 "cells": [
  {
   "cell_type": "markdown",
   "id": "c1fe09f2",
   "metadata": {},
   "source": [
    "# <center><img src=\"https://github.com/insaid2018/Term-1/blob/master/Images/INSAID_Full%20Logo.png?raw=true\" width=\"240\" height=\"100\" /></center>\n",
    "\n",
    "\n",
    "## **<center>ML1: TELECOM CHURN PREDICTION</center>**"
   ]
  },
  {
   "cell_type": "markdown",
   "id": "ecc2b6a7",
   "metadata": {},
   "source": [
    "<a name = Section2></a>\n",
    "# **Problem Statement**\n",
    "---\n",
    "\n",
    "The company suffers from the following problems:\n",
    "\n",
    "- Due to the boom in the telecom industry with 4G technology, it has become a pain in the neck for the company to retain their customers.\n",
    "\n",
    "- They are in the middle of setting up more cell sites on the 4G network to improve their 4G services.\n",
    "It is plausible for customers to choose 4G services over 3G services due to benefits of cost, speed, latency etc.\n",
    "\n",
    "- In return, they have decided to find a more optimal way and hired a team of data scientists to solve this problem."
   ]
  },
  {
   "cell_type": "markdown",
   "id": "595615a9",
   "metadata": {},
   "source": [
    "<a name = Section33></a>\n",
    "### **Importing Libraries**"
   ]
  },
  {
   "cell_type": "code",
   "execution_count": 226,
   "id": "78731691",
   "metadata": {},
   "outputs": [],
   "source": [
    "import numpy as np\n",
    "import pandas as pd\n",
    "import matplotlib.pyplot as plt\n",
    "import seaborn as sns\n",
    "%matplotlib inline\n",
    "\n",
    "from sklearn.model_selection import train_test_split\n",
    "from sklearn.preprocessing import StandardScaler\n",
    "from sklearn import metrics\n",
    "from sklearn.preprocessing import LabelEncoder\n",
    "from sklearn.linear_model import LogisticRegression\n",
    "from sklearn.tree import DecisionTreeClassifier\n",
    "from sklearn.ensemble import RandomForestClassifier\n",
    "from sklearn.metrics import accuracy_score,confusion_matrix,classification_report\n",
    "\n",
    "import warnings\n",
    "warnings.filterwarnings(\"ignore\")  "
   ]
  },
  {
   "cell_type": "markdown",
   "id": "c37dc3ff",
   "metadata": {},
   "source": [
    "<a name = Section33></a>\n",
    "### **Data Acquisition**"
   ]
  },
  {
   "cell_type": "code",
   "execution_count": 227,
   "id": "b5eb23d8",
   "metadata": {},
   "outputs": [
    {
     "data": {
      "text/html": [
       "<div>\n",
       "<style scoped>\n",
       "    .dataframe tbody tr th:only-of-type {\n",
       "        vertical-align: middle;\n",
       "    }\n",
       "\n",
       "    .dataframe tbody tr th {\n",
       "        vertical-align: top;\n",
       "    }\n",
       "\n",
       "    .dataframe thead th {\n",
       "        text-align: right;\n",
       "    }\n",
       "</style>\n",
       "<table border=\"1\" class=\"dataframe\">\n",
       "  <thead>\n",
       "    <tr style=\"text-align: right;\">\n",
       "      <th></th>\n",
       "      <th>customerID</th>\n",
       "      <th>gender</th>\n",
       "      <th>SeniorCitizen</th>\n",
       "      <th>Partner</th>\n",
       "      <th>Dependents</th>\n",
       "      <th>tenure</th>\n",
       "      <th>PhoneService</th>\n",
       "      <th>MultipleLines</th>\n",
       "      <th>InternetService</th>\n",
       "      <th>OnlineSecurity</th>\n",
       "      <th>...</th>\n",
       "      <th>DeviceProtection</th>\n",
       "      <th>TechSupport</th>\n",
       "      <th>StreamingTV</th>\n",
       "      <th>StreamingMovies</th>\n",
       "      <th>Contract</th>\n",
       "      <th>PaperlessBilling</th>\n",
       "      <th>PaymentMethod</th>\n",
       "      <th>MonthlyCharges</th>\n",
       "      <th>TotalCharges</th>\n",
       "      <th>Churn</th>\n",
       "    </tr>\n",
       "  </thead>\n",
       "  <tbody>\n",
       "    <tr>\n",
       "      <th>0</th>\n",
       "      <td>5442-PPTJY</td>\n",
       "      <td>Male</td>\n",
       "      <td>0</td>\n",
       "      <td>Yes</td>\n",
       "      <td>Yes</td>\n",
       "      <td>12</td>\n",
       "      <td>Yes</td>\n",
       "      <td>No</td>\n",
       "      <td>No</td>\n",
       "      <td>No internet service</td>\n",
       "      <td>...</td>\n",
       "      <td>No internet service</td>\n",
       "      <td>No internet service</td>\n",
       "      <td>No internet service</td>\n",
       "      <td>No internet service</td>\n",
       "      <td>Two year</td>\n",
       "      <td>No</td>\n",
       "      <td>Mailed check</td>\n",
       "      <td>19.70</td>\n",
       "      <td>258.35</td>\n",
       "      <td>No</td>\n",
       "    </tr>\n",
       "    <tr>\n",
       "      <th>1</th>\n",
       "      <td>6261-RCVNS</td>\n",
       "      <td>Female</td>\n",
       "      <td>0</td>\n",
       "      <td>No</td>\n",
       "      <td>No</td>\n",
       "      <td>42</td>\n",
       "      <td>Yes</td>\n",
       "      <td>No</td>\n",
       "      <td>DSL</td>\n",
       "      <td>Yes</td>\n",
       "      <td>...</td>\n",
       "      <td>Yes</td>\n",
       "      <td>Yes</td>\n",
       "      <td>No</td>\n",
       "      <td>Yes</td>\n",
       "      <td>One year</td>\n",
       "      <td>No</td>\n",
       "      <td>Credit card (automatic)</td>\n",
       "      <td>73.90</td>\n",
       "      <td>3160.55</td>\n",
       "      <td>Yes</td>\n",
       "    </tr>\n",
       "    <tr>\n",
       "      <th>2</th>\n",
       "      <td>2176-OSJUV</td>\n",
       "      <td>Male</td>\n",
       "      <td>0</td>\n",
       "      <td>Yes</td>\n",
       "      <td>No</td>\n",
       "      <td>71</td>\n",
       "      <td>Yes</td>\n",
       "      <td>Yes</td>\n",
       "      <td>DSL</td>\n",
       "      <td>Yes</td>\n",
       "      <td>...</td>\n",
       "      <td>No</td>\n",
       "      <td>Yes</td>\n",
       "      <td>No</td>\n",
       "      <td>No</td>\n",
       "      <td>Two year</td>\n",
       "      <td>No</td>\n",
       "      <td>Bank transfer (automatic)</td>\n",
       "      <td>65.15</td>\n",
       "      <td>4681.75</td>\n",
       "      <td>No</td>\n",
       "    </tr>\n",
       "    <tr>\n",
       "      <th>3</th>\n",
       "      <td>6161-ERDGD</td>\n",
       "      <td>Male</td>\n",
       "      <td>0</td>\n",
       "      <td>Yes</td>\n",
       "      <td>Yes</td>\n",
       "      <td>71</td>\n",
       "      <td>Yes</td>\n",
       "      <td>Yes</td>\n",
       "      <td>DSL</td>\n",
       "      <td>Yes</td>\n",
       "      <td>...</td>\n",
       "      <td>Yes</td>\n",
       "      <td>Yes</td>\n",
       "      <td>Yes</td>\n",
       "      <td>Yes</td>\n",
       "      <td>One year</td>\n",
       "      <td>No</td>\n",
       "      <td>Electronic check</td>\n",
       "      <td>85.45</td>\n",
       "      <td>6300.85</td>\n",
       "      <td>No</td>\n",
       "    </tr>\n",
       "    <tr>\n",
       "      <th>4</th>\n",
       "      <td>2364-UFROM</td>\n",
       "      <td>Male</td>\n",
       "      <td>0</td>\n",
       "      <td>No</td>\n",
       "      <td>No</td>\n",
       "      <td>30</td>\n",
       "      <td>Yes</td>\n",
       "      <td>No</td>\n",
       "      <td>DSL</td>\n",
       "      <td>Yes</td>\n",
       "      <td>...</td>\n",
       "      <td>No</td>\n",
       "      <td>Yes</td>\n",
       "      <td>Yes</td>\n",
       "      <td>No</td>\n",
       "      <td>One year</td>\n",
       "      <td>No</td>\n",
       "      <td>Electronic check</td>\n",
       "      <td>70.40</td>\n",
       "      <td>2044.75</td>\n",
       "      <td>No</td>\n",
       "    </tr>\n",
       "  </tbody>\n",
       "</table>\n",
       "<p>5 rows × 21 columns</p>\n",
       "</div>"
      ],
      "text/plain": [
       "   customerID  gender  SeniorCitizen Partner Dependents  tenure PhoneService  \\\n",
       "0  5442-PPTJY    Male              0     Yes        Yes      12          Yes   \n",
       "1  6261-RCVNS  Female              0      No         No      42          Yes   \n",
       "2  2176-OSJUV    Male              0     Yes         No      71          Yes   \n",
       "3  6161-ERDGD    Male              0     Yes        Yes      71          Yes   \n",
       "4  2364-UFROM    Male              0      No         No      30          Yes   \n",
       "\n",
       "  MultipleLines InternetService       OnlineSecurity  ...  \\\n",
       "0            No              No  No internet service  ...   \n",
       "1            No             DSL                  Yes  ...   \n",
       "2           Yes             DSL                  Yes  ...   \n",
       "3           Yes             DSL                  Yes  ...   \n",
       "4            No             DSL                  Yes  ...   \n",
       "\n",
       "      DeviceProtection          TechSupport          StreamingTV  \\\n",
       "0  No internet service  No internet service  No internet service   \n",
       "1                  Yes                  Yes                   No   \n",
       "2                   No                  Yes                   No   \n",
       "3                  Yes                  Yes                  Yes   \n",
       "4                   No                  Yes                  Yes   \n",
       "\n",
       "       StreamingMovies  Contract PaperlessBilling              PaymentMethod  \\\n",
       "0  No internet service  Two year               No               Mailed check   \n",
       "1                  Yes  One year               No    Credit card (automatic)   \n",
       "2                   No  Two year               No  Bank transfer (automatic)   \n",
       "3                  Yes  One year               No           Electronic check   \n",
       "4                   No  One year               No           Electronic check   \n",
       "\n",
       "  MonthlyCharges  TotalCharges Churn  \n",
       "0          19.70        258.35    No  \n",
       "1          73.90       3160.55   Yes  \n",
       "2          65.15       4681.75    No  \n",
       "3          85.45       6300.85    No  \n",
       "4          70.40       2044.75    No  \n",
       "\n",
       "[5 rows x 21 columns]"
      ]
     },
     "execution_count": 227,
     "metadata": {},
     "output_type": "execute_result"
    }
   ],
   "source": [
    "train=pd.read_csv('Churn_train.csv')\n",
    "train.head()"
   ]
  },
  {
   "cell_type": "markdown",
   "id": "44f271bb",
   "metadata": {},
   "source": [
    "### Dataset Feature Description\n",
    "The Dataset contains the following columns:"
   ]
  },
  {
   "cell_type": "markdown",
   "id": "76cfa980",
   "metadata": {},
   "source": [
    "||Column Name|Description|\n",
    "|:--|:--|:--|\n",
    "||**CustomerID**| Passenger Identity |\n",
    "||**Gender\tWhether**| Whether the customer is a male or a female |\n",
    "||**SeniorCitizen**| Whether the customer is a senior citizen or not (1, 0) |\n",
    "||**Partner\tWhether**| the customer has a partner or not (Yes, No) |\n",
    "||**Dependents**| Whether the customer has dependents or not (Yes, No)|\n",
    "||**Tenure**| Number of months the customer has stayed with the company |\n",
    "||**PhoneService**| Whether the customer has a phone service or not (Yes, No) |\n",
    "||**MultipleLines**| Whether the customer has multiple lines or not (Yes, No, No phone service) |\n",
    "||**InternetService**| Customer’s internet service provider (DSL, Fiber optic, No)|\n",
    "||**OnlineSecurity**| Whether the customer has online security or not (Yes, No, No internet service)|\n",
    "||**OnlineBackup**| Whether the customer has online backup or not (Yes, No, No internet service)|\n",
    "||**DeviceProtection**| Whether the customer has device protection or not (Yes, No, No internet service)|\n",
    "||**TechSupport**| Whether the customer has tech support or not (Yes, No, No internet service) |\n",
    "||**StreamingTV**| Whether the customer has streaming TV or not (Yes, No, No internet service)|\n",
    "||**StreamingMovies**| Whether the customer has streaming movies or not (Yes, No, No internet service) |\n",
    "||**Contract**| The contract term of the customer (Month-to-month, One year, Two year)|\n",
    "||**PaperlessBilling**| Whether the customer has paperless billing or not (Yes, No)|\n",
    "||**PaymentMethod**| The customer’s payment method (Electronic check, Mailed check, Bank transfer (automatic), Credit card (automatic))|\n",
    "||**MonthlyCharges**| The amount charged to the customer monthly|\n",
    "||**TotalCharges**| The total amount charged to the customer|\n",
    "||**Churn**| Whether the customer churned or not (Yes or No)|"
   ]
  },
  {
   "cell_type": "markdown",
   "id": "8c98b5a2",
   "metadata": {},
   "source": [
    "<a name = Section41></a>\n",
    "### **Data Info, Data Description and Null Value Checking**\n",
    "\n",
    "- In this section we will get **description** and **statistics** about the data."
   ]
  },
  {
   "cell_type": "code",
   "execution_count": 228,
   "id": "c1444281",
   "metadata": {},
   "outputs": [
    {
     "name": "stdout",
     "output_type": "stream",
     "text": [
      "<class 'pandas.core.frame.DataFrame'>\n",
      "RangeIndex: 5634 entries, 0 to 5633\n",
      "Data columns (total 21 columns):\n",
      " #   Column            Non-Null Count  Dtype  \n",
      "---  ------            --------------  -----  \n",
      " 0   customerID        5634 non-null   object \n",
      " 1   gender            5634 non-null   object \n",
      " 2   SeniorCitizen     5634 non-null   int64  \n",
      " 3   Partner           5634 non-null   object \n",
      " 4   Dependents        5634 non-null   object \n",
      " 5   tenure            5634 non-null   int64  \n",
      " 6   PhoneService      5634 non-null   object \n",
      " 7   MultipleLines     5634 non-null   object \n",
      " 8   InternetService   5634 non-null   object \n",
      " 9   OnlineSecurity    5634 non-null   object \n",
      " 10  OnlineBackup      5634 non-null   object \n",
      " 11  DeviceProtection  5634 non-null   object \n",
      " 12  TechSupport       5634 non-null   object \n",
      " 13  StreamingTV       5634 non-null   object \n",
      " 14  StreamingMovies   5634 non-null   object \n",
      " 15  Contract          5634 non-null   object \n",
      " 16  PaperlessBilling  5634 non-null   object \n",
      " 17  PaymentMethod     5634 non-null   object \n",
      " 18  MonthlyCharges    5634 non-null   float64\n",
      " 19  TotalCharges      5634 non-null   object \n",
      " 20  Churn             5634 non-null   object \n",
      "dtypes: float64(1), int64(2), object(18)\n",
      "memory usage: 924.5+ KB\n"
     ]
    }
   ],
   "source": [
    "train.info()"
   ]
  },
  {
   "cell_type": "code",
   "execution_count": 229,
   "id": "5bc61639",
   "metadata": {},
   "outputs": [
    {
     "data": {
      "text/html": [
       "<div>\n",
       "<style scoped>\n",
       "    .dataframe tbody tr th:only-of-type {\n",
       "        vertical-align: middle;\n",
       "    }\n",
       "\n",
       "    .dataframe tbody tr th {\n",
       "        vertical-align: top;\n",
       "    }\n",
       "\n",
       "    .dataframe thead th {\n",
       "        text-align: right;\n",
       "    }\n",
       "</style>\n",
       "<table border=\"1\" class=\"dataframe\">\n",
       "  <thead>\n",
       "    <tr style=\"text-align: right;\">\n",
       "      <th></th>\n",
       "      <th>count</th>\n",
       "      <th>mean</th>\n",
       "      <th>std</th>\n",
       "      <th>min</th>\n",
       "      <th>25%</th>\n",
       "      <th>50%</th>\n",
       "      <th>75%</th>\n",
       "      <th>max</th>\n",
       "    </tr>\n",
       "  </thead>\n",
       "  <tbody>\n",
       "    <tr>\n",
       "      <th>SeniorCitizen</th>\n",
       "      <td>5634.0</td>\n",
       "      <td>0.161874</td>\n",
       "      <td>0.368368</td>\n",
       "      <td>0.00</td>\n",
       "      <td>0.0</td>\n",
       "      <td>0.000</td>\n",
       "      <td>0.00</td>\n",
       "      <td>1.00</td>\n",
       "    </tr>\n",
       "    <tr>\n",
       "      <th>tenure</th>\n",
       "      <td>5634.0</td>\n",
       "      <td>32.277955</td>\n",
       "      <td>24.555211</td>\n",
       "      <td>0.00</td>\n",
       "      <td>9.0</td>\n",
       "      <td>29.000</td>\n",
       "      <td>55.00</td>\n",
       "      <td>72.00</td>\n",
       "    </tr>\n",
       "    <tr>\n",
       "      <th>MonthlyCharges</th>\n",
       "      <td>5634.0</td>\n",
       "      <td>64.779127</td>\n",
       "      <td>30.104993</td>\n",
       "      <td>18.25</td>\n",
       "      <td>35.4</td>\n",
       "      <td>70.375</td>\n",
       "      <td>89.85</td>\n",
       "      <td>118.65</td>\n",
       "    </tr>\n",
       "  </tbody>\n",
       "</table>\n",
       "</div>"
      ],
      "text/plain": [
       "                 count       mean        std    min   25%     50%    75%  \\\n",
       "SeniorCitizen   5634.0   0.161874   0.368368   0.00   0.0   0.000   0.00   \n",
       "tenure          5634.0  32.277955  24.555211   0.00   9.0  29.000  55.00   \n",
       "MonthlyCharges  5634.0  64.779127  30.104993  18.25  35.4  70.375  89.85   \n",
       "\n",
       "                   max  \n",
       "SeniorCitizen     1.00  \n",
       "tenure           72.00  \n",
       "MonthlyCharges  118.65  "
      ]
     },
     "execution_count": 229,
     "metadata": {},
     "output_type": "execute_result"
    }
   ],
   "source": [
    "train.describe().T"
   ]
  },
  {
   "cell_type": "code",
   "execution_count": 230,
   "id": "9d0f63be",
   "metadata": {},
   "outputs": [
    {
     "data": {
      "text/plain": [
       "1     485\n",
       "72    283\n",
       "2     194\n",
       "3     165\n",
       "71    147\n",
       "     ... \n",
       "45     46\n",
       "21     45\n",
       "39     43\n",
       "36     38\n",
       "0       8\n",
       "Name: tenure, Length: 73, dtype: int64"
      ]
     },
     "execution_count": 230,
     "metadata": {},
     "output_type": "execute_result"
    }
   ],
   "source": [
    "train['tenure'].value_counts()"
   ]
  },
  {
   "cell_type": "code",
   "execution_count": 231,
   "id": "5fc24fa9",
   "metadata": {},
   "outputs": [
    {
     "data": {
      "application/vnd.jupyter.widget-view+json": {
       "model_id": "8e0734bd83094fadb5f91b9f0d24a8f2",
       "version_major": 2,
       "version_minor": 0
      },
      "text/plain": [
       "Summarize dataset:   0%|          | 0/33 [00:00<?, ?it/s]"
      ]
     },
     "metadata": {},
     "output_type": "display_data"
    },
    {
     "data": {
      "application/vnd.jupyter.widget-view+json": {
       "model_id": "ecb859f057d54544a95863f9f126bdb5",
       "version_major": 2,
       "version_minor": 0
      },
      "text/plain": [
       "Generate report structure:   0%|          | 0/1 [00:00<?, ?it/s]"
      ]
     },
     "metadata": {},
     "output_type": "display_data"
    },
    {
     "data": {
      "application/vnd.jupyter.widget-view+json": {
       "model_id": "",
       "version_major": 2,
       "version_minor": 0
      },
      "text/plain": [
       "Render widgets:   0%|          | 0/1 [00:00<?, ?it/s]"
      ]
     },
     "metadata": {},
     "output_type": "display_data"
    },
    {
     "data": {
      "application/vnd.jupyter.widget-view+json": {
       "model_id": "b41b42c43f5447a2a9252af1576473b6",
       "version_major": 2,
       "version_minor": 0
      },
      "text/plain": [
       "VBox(children=(Tab(children=(Tab(children=(GridBox(children=(VBox(children=(GridspecLayout(children=(HTML(valu…"
      ]
     },
     "metadata": {},
     "output_type": "display_data"
    }
   ],
   "source": [
    "from pandas_profiling import ProfileReport\n",
    "profile=ProfileReport(train,title='Pandas Profile Report')\n",
    "profile.to_widgets()"
   ]
  },
  {
   "cell_type": "code",
   "execution_count": 232,
   "id": "d70dd019",
   "metadata": {},
   "outputs": [
    {
     "data": {
      "text/html": [
       "<div>\n",
       "<style scoped>\n",
       "    .dataframe tbody tr th:only-of-type {\n",
       "        vertical-align: middle;\n",
       "    }\n",
       "\n",
       "    .dataframe tbody tr th {\n",
       "        vertical-align: top;\n",
       "    }\n",
       "\n",
       "    .dataframe thead th {\n",
       "        text-align: right;\n",
       "    }\n",
       "</style>\n",
       "<table border=\"1\" class=\"dataframe\">\n",
       "  <thead>\n",
       "    <tr style=\"text-align: right;\">\n",
       "      <th></th>\n",
       "      <th>gender</th>\n",
       "      <th>SeniorCitizen</th>\n",
       "      <th>Partner</th>\n",
       "      <th>Dependents</th>\n",
       "      <th>tenure</th>\n",
       "      <th>PhoneService</th>\n",
       "      <th>MultipleLines</th>\n",
       "      <th>InternetService</th>\n",
       "      <th>OnlineSecurity</th>\n",
       "      <th>OnlineBackup</th>\n",
       "      <th>DeviceProtection</th>\n",
       "      <th>TechSupport</th>\n",
       "      <th>StreamingTV</th>\n",
       "      <th>StreamingMovies</th>\n",
       "      <th>Contract</th>\n",
       "      <th>PaperlessBilling</th>\n",
       "      <th>PaymentMethod</th>\n",
       "      <th>MonthlyCharges</th>\n",
       "      <th>TotalCharges</th>\n",
       "      <th>Churn</th>\n",
       "    </tr>\n",
       "  </thead>\n",
       "  <tbody>\n",
       "    <tr>\n",
       "      <th>5379</th>\n",
       "      <td>Male</td>\n",
       "      <td>0</td>\n",
       "      <td>No</td>\n",
       "      <td>No</td>\n",
       "      <td>1</td>\n",
       "      <td>Yes</td>\n",
       "      <td>No</td>\n",
       "      <td>Fiber optic</td>\n",
       "      <td>No</td>\n",
       "      <td>No</td>\n",
       "      <td>No</td>\n",
       "      <td>No</td>\n",
       "      <td>No</td>\n",
       "      <td>No</td>\n",
       "      <td>Month-to-month</td>\n",
       "      <td>Yes</td>\n",
       "      <td>Mailed check</td>\n",
       "      <td>71.55</td>\n",
       "      <td>71.55</td>\n",
       "      <td>Yes</td>\n",
       "    </tr>\n",
       "    <tr>\n",
       "      <th>1983</th>\n",
       "      <td>Female</td>\n",
       "      <td>0</td>\n",
       "      <td>No</td>\n",
       "      <td>No</td>\n",
       "      <td>3</td>\n",
       "      <td>Yes</td>\n",
       "      <td>No</td>\n",
       "      <td>Fiber optic</td>\n",
       "      <td>No</td>\n",
       "      <td>No</td>\n",
       "      <td>No</td>\n",
       "      <td>Yes</td>\n",
       "      <td>No</td>\n",
       "      <td>Yes</td>\n",
       "      <td>Month-to-month</td>\n",
       "      <td>No</td>\n",
       "      <td>Electronic check</td>\n",
       "      <td>85.80</td>\n",
       "      <td>272.20</td>\n",
       "      <td>Yes</td>\n",
       "    </tr>\n",
       "    <tr>\n",
       "      <th>3321</th>\n",
       "      <td>Male</td>\n",
       "      <td>0</td>\n",
       "      <td>Yes</td>\n",
       "      <td>No</td>\n",
       "      <td>66</td>\n",
       "      <td>Yes</td>\n",
       "      <td>Yes</td>\n",
       "      <td>Fiber optic</td>\n",
       "      <td>No</td>\n",
       "      <td>Yes</td>\n",
       "      <td>Yes</td>\n",
       "      <td>No</td>\n",
       "      <td>Yes</td>\n",
       "      <td>Yes</td>\n",
       "      <td>Month-to-month</td>\n",
       "      <td>Yes</td>\n",
       "      <td>Credit card</td>\n",
       "      <td>105.00</td>\n",
       "      <td>7133.25</td>\n",
       "      <td>Yes</td>\n",
       "    </tr>\n",
       "  </tbody>\n",
       "</table>\n",
       "</div>"
      ],
      "text/plain": [
       "      gender  SeniorCitizen Partner Dependents  tenure PhoneService  \\\n",
       "5379    Male              0      No         No       1          Yes   \n",
       "1983  Female              0      No         No       3          Yes   \n",
       "3321    Male              0     Yes         No      66          Yes   \n",
       "\n",
       "     MultipleLines InternetService OnlineSecurity OnlineBackup  \\\n",
       "5379            No     Fiber optic             No           No   \n",
       "1983            No     Fiber optic             No           No   \n",
       "3321           Yes     Fiber optic             No          Yes   \n",
       "\n",
       "     DeviceProtection TechSupport StreamingTV StreamingMovies        Contract  \\\n",
       "5379               No          No          No              No  Month-to-month   \n",
       "1983               No         Yes          No             Yes  Month-to-month   \n",
       "3321              Yes          No         Yes             Yes  Month-to-month   \n",
       "\n",
       "     PaperlessBilling     PaymentMethod  MonthlyCharges  TotalCharges Churn  \n",
       "5379              Yes      Mailed check           71.55         71.55   Yes  \n",
       "1983               No  Electronic check           85.80        272.20   Yes  \n",
       "3321              Yes       Credit card          105.00       7133.25   Yes  "
      ]
     },
     "execution_count": 232,
     "metadata": {},
     "output_type": "execute_result"
    }
   ],
   "source": [
    "train1.sample(3)"
   ]
  },
  {
   "cell_type": "code",
   "execution_count": 233,
   "id": "715b98be",
   "metadata": {},
   "outputs": [],
   "source": [
    "#Dropping customerID column as it is highly co-ordinality column\n",
    "train.drop(columns=['customerID'],inplace=True)"
   ]
  },
  {
   "cell_type": "code",
   "execution_count": 234,
   "id": "a3a47ba7",
   "metadata": {},
   "outputs": [
    {
     "data": {
      "text/plain": [
       "Electronic check             1893\n",
       "Mailed check                 1305\n",
       "Bank transfer (automatic)    1219\n",
       "Credit card (automatic)      1217\n",
       "Name: PaymentMethod, dtype: int64"
      ]
     },
     "execution_count": 234,
     "metadata": {},
     "output_type": "execute_result"
    }
   ],
   "source": [
    "train['PaymentMethod'].value_counts()"
   ]
  },
  {
   "cell_type": "code",
   "execution_count": 235,
   "id": "6e091a06",
   "metadata": {},
   "outputs": [],
   "source": [
    "#change the 'No phone/internet service' to 'No', because it's not adding any new informaion\n",
    "train=train.replace(to_replace='No internet service',value='No')\n",
    "train=train.replace(to_replace='No phone service',value='No')"
   ]
  },
  {
   "cell_type": "code",
   "execution_count": 236,
   "id": "b4155ddd",
   "metadata": {},
   "outputs": [
    {
     "data": {
      "text/html": [
       "<div>\n",
       "<style scoped>\n",
       "    .dataframe tbody tr th:only-of-type {\n",
       "        vertical-align: middle;\n",
       "    }\n",
       "\n",
       "    .dataframe tbody tr th {\n",
       "        vertical-align: top;\n",
       "    }\n",
       "\n",
       "    .dataframe thead th {\n",
       "        text-align: right;\n",
       "    }\n",
       "</style>\n",
       "<table border=\"1\" class=\"dataframe\">\n",
       "  <thead>\n",
       "    <tr style=\"text-align: right;\">\n",
       "      <th></th>\n",
       "      <th>gender</th>\n",
       "      <th>SeniorCitizen</th>\n",
       "      <th>Partner</th>\n",
       "      <th>Dependents</th>\n",
       "      <th>tenure</th>\n",
       "      <th>PhoneService</th>\n",
       "      <th>MultipleLines</th>\n",
       "      <th>InternetService</th>\n",
       "      <th>OnlineSecurity</th>\n",
       "      <th>OnlineBackup</th>\n",
       "      <th>DeviceProtection</th>\n",
       "      <th>TechSupport</th>\n",
       "      <th>StreamingTV</th>\n",
       "      <th>StreamingMovies</th>\n",
       "      <th>Contract</th>\n",
       "      <th>PaperlessBilling</th>\n",
       "      <th>PaymentMethod</th>\n",
       "      <th>MonthlyCharges</th>\n",
       "      <th>TotalCharges</th>\n",
       "      <th>Churn</th>\n",
       "    </tr>\n",
       "  </thead>\n",
       "  <tbody>\n",
       "    <tr>\n",
       "      <th>3411</th>\n",
       "      <td>Female</td>\n",
       "      <td>0</td>\n",
       "      <td>Yes</td>\n",
       "      <td>Yes</td>\n",
       "      <td>1</td>\n",
       "      <td>Yes</td>\n",
       "      <td>No</td>\n",
       "      <td>Fiber optic</td>\n",
       "      <td>No</td>\n",
       "      <td>No</td>\n",
       "      <td>No</td>\n",
       "      <td>No</td>\n",
       "      <td>No</td>\n",
       "      <td>No</td>\n",
       "      <td>Month-to-month</td>\n",
       "      <td>Yes</td>\n",
       "      <td>Mailed check</td>\n",
       "      <td>69.10</td>\n",
       "      <td>69.1</td>\n",
       "      <td>Yes</td>\n",
       "    </tr>\n",
       "    <tr>\n",
       "      <th>4627</th>\n",
       "      <td>Male</td>\n",
       "      <td>0</td>\n",
       "      <td>Yes</td>\n",
       "      <td>No</td>\n",
       "      <td>67</td>\n",
       "      <td>Yes</td>\n",
       "      <td>Yes</td>\n",
       "      <td>No</td>\n",
       "      <td>No</td>\n",
       "      <td>No</td>\n",
       "      <td>No</td>\n",
       "      <td>No</td>\n",
       "      <td>No</td>\n",
       "      <td>No</td>\n",
       "      <td>Two year</td>\n",
       "      <td>No</td>\n",
       "      <td>Credit card (automatic)</td>\n",
       "      <td>25.60</td>\n",
       "      <td>1784.9</td>\n",
       "      <td>No</td>\n",
       "    </tr>\n",
       "    <tr>\n",
       "      <th>1913</th>\n",
       "      <td>Female</td>\n",
       "      <td>0</td>\n",
       "      <td>Yes</td>\n",
       "      <td>Yes</td>\n",
       "      <td>33</td>\n",
       "      <td>Yes</td>\n",
       "      <td>Yes</td>\n",
       "      <td>No</td>\n",
       "      <td>No</td>\n",
       "      <td>No</td>\n",
       "      <td>No</td>\n",
       "      <td>No</td>\n",
       "      <td>No</td>\n",
       "      <td>No</td>\n",
       "      <td>One year</td>\n",
       "      <td>No</td>\n",
       "      <td>Credit card (automatic)</td>\n",
       "      <td>24.15</td>\n",
       "      <td>800.3</td>\n",
       "      <td>No</td>\n",
       "    </tr>\n",
       "  </tbody>\n",
       "</table>\n",
       "</div>"
      ],
      "text/plain": [
       "      gender  SeniorCitizen Partner Dependents  tenure PhoneService  \\\n",
       "3411  Female              0     Yes        Yes       1          Yes   \n",
       "4627    Male              0     Yes         No      67          Yes   \n",
       "1913  Female              0     Yes        Yes      33          Yes   \n",
       "\n",
       "     MultipleLines InternetService OnlineSecurity OnlineBackup  \\\n",
       "3411            No     Fiber optic             No           No   \n",
       "4627           Yes              No             No           No   \n",
       "1913           Yes              No             No           No   \n",
       "\n",
       "     DeviceProtection TechSupport StreamingTV StreamingMovies        Contract  \\\n",
       "3411               No          No          No              No  Month-to-month   \n",
       "4627               No          No          No              No        Two year   \n",
       "1913               No          No          No              No        One year   \n",
       "\n",
       "     PaperlessBilling            PaymentMethod  MonthlyCharges TotalCharges  \\\n",
       "3411              Yes             Mailed check           69.10         69.1   \n",
       "4627               No  Credit card (automatic)           25.60       1784.9   \n",
       "1913               No  Credit card (automatic)           24.15        800.3   \n",
       "\n",
       "     Churn  \n",
       "3411   Yes  \n",
       "4627    No  \n",
       "1913    No  "
      ]
     },
     "execution_count": 236,
     "metadata": {},
     "output_type": "execute_result"
    }
   ],
   "source": [
    "train.sample(n=3)"
   ]
  },
  {
   "cell_type": "code",
   "execution_count": 237,
   "id": "5f91c7ee",
   "metadata": {},
   "outputs": [],
   "source": [
    "cols=['gender','Partner','Dependents','PhoneService','MultipleLines','InternetService','OnlineSecurity','OnlineBackup',\n",
    "     'DeviceProtection','TechSupport','StreamingTV','StreamingMovies','Contract','PaperlessBilling','PaymentMethod','Churn']"
   ]
  },
  {
   "cell_type": "code",
   "execution_count": 238,
   "id": "7e388232",
   "metadata": {},
   "outputs": [],
   "source": [
    "le=LabelEncoder()"
   ]
  },
  {
   "cell_type": "code",
   "execution_count": 239,
   "id": "aae9e0df",
   "metadata": {},
   "outputs": [],
   "source": [
    "encodingdata=train[cols].apply(le.fit_transform)"
   ]
  },
  {
   "cell_type": "code",
   "execution_count": 240,
   "id": "e534e66f",
   "metadata": {},
   "outputs": [],
   "source": [
    "train.drop(columns=cols,inplace=True)"
   ]
  },
  {
   "cell_type": "code",
   "execution_count": 241,
   "id": "c6047f7c",
   "metadata": {},
   "outputs": [],
   "source": [
    "train=train.join(encodingdata[cols])"
   ]
  },
  {
   "cell_type": "code",
   "execution_count": 242,
   "id": "c3bece42",
   "metadata": {},
   "outputs": [
    {
     "data": {
      "text/html": [
       "<div>\n",
       "<style scoped>\n",
       "    .dataframe tbody tr th:only-of-type {\n",
       "        vertical-align: middle;\n",
       "    }\n",
       "\n",
       "    .dataframe tbody tr th {\n",
       "        vertical-align: top;\n",
       "    }\n",
       "\n",
       "    .dataframe thead th {\n",
       "        text-align: right;\n",
       "    }\n",
       "</style>\n",
       "<table border=\"1\" class=\"dataframe\">\n",
       "  <thead>\n",
       "    <tr style=\"text-align: right;\">\n",
       "      <th></th>\n",
       "      <th>SeniorCitizen</th>\n",
       "      <th>tenure</th>\n",
       "      <th>MonthlyCharges</th>\n",
       "      <th>TotalCharges</th>\n",
       "      <th>gender</th>\n",
       "      <th>Partner</th>\n",
       "      <th>Dependents</th>\n",
       "      <th>PhoneService</th>\n",
       "      <th>MultipleLines</th>\n",
       "      <th>InternetService</th>\n",
       "      <th>OnlineSecurity</th>\n",
       "      <th>OnlineBackup</th>\n",
       "      <th>DeviceProtection</th>\n",
       "      <th>TechSupport</th>\n",
       "      <th>StreamingTV</th>\n",
       "      <th>StreamingMovies</th>\n",
       "      <th>Contract</th>\n",
       "      <th>PaperlessBilling</th>\n",
       "      <th>PaymentMethod</th>\n",
       "      <th>Churn</th>\n",
       "    </tr>\n",
       "  </thead>\n",
       "  <tbody>\n",
       "    <tr>\n",
       "      <th>3020</th>\n",
       "      <td>0</td>\n",
       "      <td>53</td>\n",
       "      <td>19.85</td>\n",
       "      <td>1039.45</td>\n",
       "      <td>0</td>\n",
       "      <td>1</td>\n",
       "      <td>1</td>\n",
       "      <td>1</td>\n",
       "      <td>0</td>\n",
       "      <td>2</td>\n",
       "      <td>0</td>\n",
       "      <td>0</td>\n",
       "      <td>0</td>\n",
       "      <td>0</td>\n",
       "      <td>0</td>\n",
       "      <td>0</td>\n",
       "      <td>1</td>\n",
       "      <td>1</td>\n",
       "      <td>0</td>\n",
       "      <td>0</td>\n",
       "    </tr>\n",
       "    <tr>\n",
       "      <th>4961</th>\n",
       "      <td>0</td>\n",
       "      <td>35</td>\n",
       "      <td>59.60</td>\n",
       "      <td>2094.9</td>\n",
       "      <td>1</td>\n",
       "      <td>0</td>\n",
       "      <td>0</td>\n",
       "      <td>1</td>\n",
       "      <td>1</td>\n",
       "      <td>0</td>\n",
       "      <td>1</td>\n",
       "      <td>0</td>\n",
       "      <td>1</td>\n",
       "      <td>0</td>\n",
       "      <td>0</td>\n",
       "      <td>0</td>\n",
       "      <td>0</td>\n",
       "      <td>1</td>\n",
       "      <td>2</td>\n",
       "      <td>0</td>\n",
       "    </tr>\n",
       "    <tr>\n",
       "      <th>2081</th>\n",
       "      <td>0</td>\n",
       "      <td>25</td>\n",
       "      <td>54.75</td>\n",
       "      <td>1266.35</td>\n",
       "      <td>0</td>\n",
       "      <td>0</td>\n",
       "      <td>1</td>\n",
       "      <td>1</td>\n",
       "      <td>0</td>\n",
       "      <td>0</td>\n",
       "      <td>0</td>\n",
       "      <td>1</td>\n",
       "      <td>0</td>\n",
       "      <td>1</td>\n",
       "      <td>0</td>\n",
       "      <td>0</td>\n",
       "      <td>1</td>\n",
       "      <td>1</td>\n",
       "      <td>1</td>\n",
       "      <td>0</td>\n",
       "    </tr>\n",
       "  </tbody>\n",
       "</table>\n",
       "</div>"
      ],
      "text/plain": [
       "      SeniorCitizen  tenure  MonthlyCharges TotalCharges  gender  Partner  \\\n",
       "3020              0      53           19.85      1039.45       0        1   \n",
       "4961              0      35           59.60       2094.9       1        0   \n",
       "2081              0      25           54.75      1266.35       0        0   \n",
       "\n",
       "      Dependents  PhoneService  MultipleLines  InternetService  \\\n",
       "3020           1             1              0                2   \n",
       "4961           0             1              1                0   \n",
       "2081           1             1              0                0   \n",
       "\n",
       "      OnlineSecurity  OnlineBackup  DeviceProtection  TechSupport  \\\n",
       "3020               0             0                 0            0   \n",
       "4961               1             0                 1            0   \n",
       "2081               0             1                 0            1   \n",
       "\n",
       "      StreamingTV  StreamingMovies  Contract  PaperlessBilling  PaymentMethod  \\\n",
       "3020            0                0         1                 1              0   \n",
       "4961            0                0         0                 1              2   \n",
       "2081            0                0         1                 1              1   \n",
       "\n",
       "      Churn  \n",
       "3020      0  \n",
       "4961      0  \n",
       "2081      0  "
      ]
     },
     "execution_count": 242,
     "metadata": {},
     "output_type": "execute_result"
    }
   ],
   "source": [
    "train.sample(n=3)"
   ]
  },
  {
   "cell_type": "code",
   "execution_count": 243,
   "id": "71259b87",
   "metadata": {},
   "outputs": [],
   "source": [
    "train['TotalCharges'] = train['TotalCharges'].replace(' ', value=0)\n",
    "train.TotalCharges = pd.to_numeric(train.TotalCharges)"
   ]
  },
  {
   "cell_type": "code",
   "execution_count": 244,
   "id": "2af043c1",
   "metadata": {},
   "outputs": [],
   "source": [
    "ss=StandardScaler()"
   ]
  },
  {
   "cell_type": "code",
   "execution_count": 245,
   "id": "0437afc2",
   "metadata": {},
   "outputs": [],
   "source": [
    "scalardata=ss.fit(train[['tenure','MonthlyCharges','TotalCharges']])\n",
    "data=scalardata.transform(train[['tenure','MonthlyCharges','TotalCharges']])\n",
    "data=pd.DataFrame(data,columns=['tenure','MonthlyCharges','TotalCharges'])\n",
    "train.drop(columns=['tenure','MonthlyCharges','TotalCharges'],inplace=True)\n",
    "train=train.join(data)"
   ]
  },
  {
   "cell_type": "code",
   "execution_count": 246,
   "id": "6cfafc81",
   "metadata": {},
   "outputs": [
    {
     "data": {
      "text/html": [
       "<div>\n",
       "<style scoped>\n",
       "    .dataframe tbody tr th:only-of-type {\n",
       "        vertical-align: middle;\n",
       "    }\n",
       "\n",
       "    .dataframe tbody tr th {\n",
       "        vertical-align: top;\n",
       "    }\n",
       "\n",
       "    .dataframe thead th {\n",
       "        text-align: right;\n",
       "    }\n",
       "</style>\n",
       "<table border=\"1\" class=\"dataframe\">\n",
       "  <thead>\n",
       "    <tr style=\"text-align: right;\">\n",
       "      <th></th>\n",
       "      <th>SeniorCitizen</th>\n",
       "      <th>gender</th>\n",
       "      <th>Partner</th>\n",
       "      <th>Dependents</th>\n",
       "      <th>PhoneService</th>\n",
       "      <th>MultipleLines</th>\n",
       "      <th>InternetService</th>\n",
       "      <th>OnlineSecurity</th>\n",
       "      <th>OnlineBackup</th>\n",
       "      <th>DeviceProtection</th>\n",
       "      <th>TechSupport</th>\n",
       "      <th>StreamingTV</th>\n",
       "      <th>StreamingMovies</th>\n",
       "      <th>Contract</th>\n",
       "      <th>PaperlessBilling</th>\n",
       "      <th>PaymentMethod</th>\n",
       "      <th>Churn</th>\n",
       "      <th>tenure</th>\n",
       "      <th>MonthlyCharges</th>\n",
       "      <th>TotalCharges</th>\n",
       "    </tr>\n",
       "  </thead>\n",
       "  <tbody>\n",
       "    <tr>\n",
       "      <th>965</th>\n",
       "      <td>0</td>\n",
       "      <td>0</td>\n",
       "      <td>0</td>\n",
       "      <td>0</td>\n",
       "      <td>1</td>\n",
       "      <td>0</td>\n",
       "      <td>2</td>\n",
       "      <td>0</td>\n",
       "      <td>0</td>\n",
       "      <td>0</td>\n",
       "      <td>0</td>\n",
       "      <td>0</td>\n",
       "      <td>0</td>\n",
       "      <td>1</td>\n",
       "      <td>0</td>\n",
       "      <td>1</td>\n",
       "      <td>0</td>\n",
       "      <td>-0.337146</td>\n",
       "      <td>-1.472615</td>\n",
       "      <td>-0.772247</td>\n",
       "    </tr>\n",
       "    <tr>\n",
       "      <th>4092</th>\n",
       "      <td>0</td>\n",
       "      <td>0</td>\n",
       "      <td>0</td>\n",
       "      <td>0</td>\n",
       "      <td>1</td>\n",
       "      <td>1</td>\n",
       "      <td>1</td>\n",
       "      <td>0</td>\n",
       "      <td>0</td>\n",
       "      <td>0</td>\n",
       "      <td>0</td>\n",
       "      <td>0</td>\n",
       "      <td>0</td>\n",
       "      <td>0</td>\n",
       "      <td>0</td>\n",
       "      <td>2</td>\n",
       "      <td>1</td>\n",
       "      <td>-1.273894</td>\n",
       "      <td>0.372758</td>\n",
       "      <td>-0.971412</td>\n",
       "    </tr>\n",
       "    <tr>\n",
       "      <th>4934</th>\n",
       "      <td>0</td>\n",
       "      <td>1</td>\n",
       "      <td>1</td>\n",
       "      <td>0</td>\n",
       "      <td>1</td>\n",
       "      <td>1</td>\n",
       "      <td>1</td>\n",
       "      <td>1</td>\n",
       "      <td>1</td>\n",
       "      <td>0</td>\n",
       "      <td>1</td>\n",
       "      <td>1</td>\n",
       "      <td>1</td>\n",
       "      <td>2</td>\n",
       "      <td>1</td>\n",
       "      <td>1</td>\n",
       "      <td>0</td>\n",
       "      <td>1.617806</td>\n",
       "      <td>1.500578</td>\n",
       "      <td>2.460042</td>\n",
       "    </tr>\n",
       "  </tbody>\n",
       "</table>\n",
       "</div>"
      ],
      "text/plain": [
       "      SeniorCitizen  gender  Partner  Dependents  PhoneService  MultipleLines  \\\n",
       "965               0       0        0           0             1              0   \n",
       "4092              0       0        0           0             1              1   \n",
       "4934              0       1        1           0             1              1   \n",
       "\n",
       "      InternetService  OnlineSecurity  OnlineBackup  DeviceProtection  \\\n",
       "965                 2               0             0                 0   \n",
       "4092                1               0             0                 0   \n",
       "4934                1               1             1                 0   \n",
       "\n",
       "      TechSupport  StreamingTV  StreamingMovies  Contract  PaperlessBilling  \\\n",
       "965             0            0                0         1                 0   \n",
       "4092            0            0                0         0                 0   \n",
       "4934            1            1                1         2                 1   \n",
       "\n",
       "      PaymentMethod  Churn    tenure  MonthlyCharges  TotalCharges  \n",
       "965               1      0 -0.337146       -1.472615     -0.772247  \n",
       "4092              2      1 -1.273894        0.372758     -0.971412  \n",
       "4934              1      0  1.617806        1.500578      2.460042  "
      ]
     },
     "execution_count": 246,
     "metadata": {},
     "output_type": "execute_result"
    }
   ],
   "source": [
    "train.sample(n=3)"
   ]
  },
  {
   "cell_type": "code",
   "execution_count": 326,
   "id": "4d4a35b8",
   "metadata": {},
   "outputs": [
    {
     "data": {
      "image/png": "[encoded data removed]",
      "text/plain": [
       "<Figure size 1080x504 with 2 Axes>"
      ]
     },
     "metadata": {
      "needs_background": "light"
     },
     "output_type": "display_data"
    }
   ],
   "source": [
    "plt.figure(figsize=(15,7))\n",
    "sns.heatmap(train.corr(),cmap = \"coolwarm\")\n",
    "plt.show()"
   ]
  },
  {
   "cell_type": "code",
   "execution_count": 247,
   "id": "898c48bc",
   "metadata": {},
   "outputs": [],
   "source": [
    "X=train.drop('Churn',axis=1)\n",
    "y=train['Churn']"
   ]
  },
  {
   "cell_type": "code",
   "execution_count": 248,
   "id": "a415df3b",
   "metadata": {},
   "outputs": [],
   "source": [
    "X_train, X_test, y_train, y_test = train_test_split(X, y, test_size=0.20, random_state=1)"
   ]
  },
  {
   "cell_type": "markdown",
   "id": "4d8a4986",
   "metadata": {},
   "source": [
    "##### Working on Test dataset "
   ]
  },
  {
   "cell_type": "code",
   "execution_count": 249,
   "id": "4a3f21d3",
   "metadata": {},
   "outputs": [],
   "source": [
    "test=pd.read_csv('Churn_test.csv')"
   ]
  },
  {
   "cell_type": "code",
   "execution_count": 250,
   "id": "43af3568",
   "metadata": {},
   "outputs": [
    {
     "data": {
      "text/html": [
       "<div>\n",
       "<style scoped>\n",
       "    .dataframe tbody tr th:only-of-type {\n",
       "        vertical-align: middle;\n",
       "    }\n",
       "\n",
       "    .dataframe tbody tr th {\n",
       "        vertical-align: top;\n",
       "    }\n",
       "\n",
       "    .dataframe thead th {\n",
       "        text-align: right;\n",
       "    }\n",
       "</style>\n",
       "<table border=\"1\" class=\"dataframe\">\n",
       "  <thead>\n",
       "    <tr style=\"text-align: right;\">\n",
       "      <th></th>\n",
       "      <th>customerID</th>\n",
       "      <th>gender</th>\n",
       "      <th>SeniorCitizen</th>\n",
       "      <th>Partner</th>\n",
       "      <th>Dependents</th>\n",
       "      <th>tenure</th>\n",
       "      <th>PhoneService</th>\n",
       "      <th>MultipleLines</th>\n",
       "      <th>InternetService</th>\n",
       "      <th>OnlineSecurity</th>\n",
       "      <th>OnlineBackup</th>\n",
       "      <th>DeviceProtection</th>\n",
       "      <th>TechSupport</th>\n",
       "      <th>StreamingTV</th>\n",
       "      <th>StreamingMovies</th>\n",
       "      <th>Contract</th>\n",
       "      <th>PaperlessBilling</th>\n",
       "      <th>PaymentMethod</th>\n",
       "      <th>MonthlyCharges</th>\n",
       "      <th>TotalCharges</th>\n",
       "    </tr>\n",
       "  </thead>\n",
       "  <tbody>\n",
       "    <tr>\n",
       "      <th>0</th>\n",
       "      <td>8879-ZKJOF</td>\n",
       "      <td>Female</td>\n",
       "      <td>0</td>\n",
       "      <td>No</td>\n",
       "      <td>No</td>\n",
       "      <td>41</td>\n",
       "      <td>Yes</td>\n",
       "      <td>No</td>\n",
       "      <td>DSL</td>\n",
       "      <td>Yes</td>\n",
       "      <td>No</td>\n",
       "      <td>Yes</td>\n",
       "      <td>Yes</td>\n",
       "      <td>Yes</td>\n",
       "      <td>Yes</td>\n",
       "      <td>One year</td>\n",
       "      <td>Yes</td>\n",
       "      <td>Bank transfer (automatic)</td>\n",
       "      <td>79.85</td>\n",
       "      <td>3320.75</td>\n",
       "    </tr>\n",
       "    <tr>\n",
       "      <th>1</th>\n",
       "      <td>0201-MIBOL</td>\n",
       "      <td>Female</td>\n",
       "      <td>1</td>\n",
       "      <td>No</td>\n",
       "      <td>No</td>\n",
       "      <td>66</td>\n",
       "      <td>Yes</td>\n",
       "      <td>Yes</td>\n",
       "      <td>Fiber optic</td>\n",
       "      <td>Yes</td>\n",
       "      <td>No</td>\n",
       "      <td>No</td>\n",
       "      <td>No</td>\n",
       "      <td>Yes</td>\n",
       "      <td>Yes</td>\n",
       "      <td>Two year</td>\n",
       "      <td>Yes</td>\n",
       "      <td>Bank transfer (automatic)</td>\n",
       "      <td>102.40</td>\n",
       "      <td>6471.85</td>\n",
       "    </tr>\n",
       "    <tr>\n",
       "      <th>2</th>\n",
       "      <td>1600-DILPE</td>\n",
       "      <td>Female</td>\n",
       "      <td>0</td>\n",
       "      <td>No</td>\n",
       "      <td>No</td>\n",
       "      <td>12</td>\n",
       "      <td>Yes</td>\n",
       "      <td>No</td>\n",
       "      <td>DSL</td>\n",
       "      <td>No</td>\n",
       "      <td>No</td>\n",
       "      <td>No</td>\n",
       "      <td>No</td>\n",
       "      <td>No</td>\n",
       "      <td>No</td>\n",
       "      <td>Month-to-month</td>\n",
       "      <td>Yes</td>\n",
       "      <td>Bank transfer (automatic)</td>\n",
       "      <td>45.00</td>\n",
       "      <td>524.35</td>\n",
       "    </tr>\n",
       "    <tr>\n",
       "      <th>3</th>\n",
       "      <td>8601-QACRS</td>\n",
       "      <td>Female</td>\n",
       "      <td>0</td>\n",
       "      <td>No</td>\n",
       "      <td>No</td>\n",
       "      <td>5</td>\n",
       "      <td>Yes</td>\n",
       "      <td>Yes</td>\n",
       "      <td>DSL</td>\n",
       "      <td>No</td>\n",
       "      <td>No</td>\n",
       "      <td>No</td>\n",
       "      <td>No</td>\n",
       "      <td>No</td>\n",
       "      <td>No</td>\n",
       "      <td>Month-to-month</td>\n",
       "      <td>Yes</td>\n",
       "      <td>Mailed check</td>\n",
       "      <td>50.60</td>\n",
       "      <td>249.95</td>\n",
       "    </tr>\n",
       "    <tr>\n",
       "      <th>4</th>\n",
       "      <td>7919-ZODZZ</td>\n",
       "      <td>Female</td>\n",
       "      <td>0</td>\n",
       "      <td>Yes</td>\n",
       "      <td>Yes</td>\n",
       "      <td>10</td>\n",
       "      <td>Yes</td>\n",
       "      <td>No</td>\n",
       "      <td>DSL</td>\n",
       "      <td>No</td>\n",
       "      <td>Yes</td>\n",
       "      <td>Yes</td>\n",
       "      <td>No</td>\n",
       "      <td>No</td>\n",
       "      <td>Yes</td>\n",
       "      <td>One year</td>\n",
       "      <td>Yes</td>\n",
       "      <td>Mailed check</td>\n",
       "      <td>65.90</td>\n",
       "      <td>660.05</td>\n",
       "    </tr>\n",
       "  </tbody>\n",
       "</table>\n",
       "</div>"
      ],
      "text/plain": [
       "   customerID  gender  SeniorCitizen Partner Dependents  tenure PhoneService  \\\n",
       "0  8879-ZKJOF  Female              0      No         No      41          Yes   \n",
       "1  0201-MIBOL  Female              1      No         No      66          Yes   \n",
       "2  1600-DILPE  Female              0      No         No      12          Yes   \n",
       "3  8601-QACRS  Female              0      No         No       5          Yes   \n",
       "4  7919-ZODZZ  Female              0     Yes        Yes      10          Yes   \n",
       "\n",
       "  MultipleLines InternetService OnlineSecurity OnlineBackup DeviceProtection  \\\n",
       "0            No             DSL            Yes           No              Yes   \n",
       "1           Yes     Fiber optic            Yes           No               No   \n",
       "2            No             DSL             No           No               No   \n",
       "3           Yes             DSL             No           No               No   \n",
       "4            No             DSL             No          Yes              Yes   \n",
       "\n",
       "  TechSupport StreamingTV StreamingMovies        Contract PaperlessBilling  \\\n",
       "0         Yes         Yes             Yes        One year              Yes   \n",
       "1          No         Yes             Yes        Two year              Yes   \n",
       "2          No          No              No  Month-to-month              Yes   \n",
       "3          No          No              No  Month-to-month              Yes   \n",
       "4          No          No             Yes        One year              Yes   \n",
       "\n",
       "               PaymentMethod  MonthlyCharges TotalCharges  \n",
       "0  Bank transfer (automatic)           79.85      3320.75  \n",
       "1  Bank transfer (automatic)          102.40      6471.85  \n",
       "2  Bank transfer (automatic)           45.00       524.35  \n",
       "3               Mailed check           50.60       249.95  \n",
       "4               Mailed check           65.90       660.05  "
      ]
     },
     "execution_count": 250,
     "metadata": {},
     "output_type": "execute_result"
    }
   ],
   "source": [
    "test.head()"
   ]
  },
  {
   "cell_type": "code",
   "execution_count": 251,
   "id": "18c7ba41",
   "metadata": {},
   "outputs": [],
   "source": [
    "test.drop(columns=['customerID'],inplace=True)"
   ]
  },
  {
   "cell_type": "code",
   "execution_count": 252,
   "id": "a59066ca",
   "metadata": {},
   "outputs": [],
   "source": [
    "#change the 'No phone/internet service' to 'No', because it's not adding any new informaion\n",
    "test=test.replace(to_replace='No internet service',value='No')\n",
    "test=test.replace(to_replace='No phone service',value='No')"
   ]
  },
  {
   "cell_type": "code",
   "execution_count": 253,
   "id": "fd2830de",
   "metadata": {},
   "outputs": [],
   "source": [
    "cols1=['gender','Partner','Dependents','PhoneService','MultipleLines','InternetService','OnlineSecurity','OnlineBackup',\n",
    "     'DeviceProtection','TechSupport','StreamingTV','StreamingMovies','Contract','PaperlessBilling','PaymentMethod']"
   ]
  },
  {
   "cell_type": "code",
   "execution_count": 254,
   "id": "31400a70",
   "metadata": {},
   "outputs": [],
   "source": [
    "encodingdatatest=test[cols1].apply(le.fit_transform)"
   ]
  },
  {
   "cell_type": "code",
   "execution_count": 255,
   "id": "e16a56ac",
   "metadata": {},
   "outputs": [],
   "source": [
    "test.drop(columns=cols1,inplace=True)"
   ]
  },
  {
   "cell_type": "code",
   "execution_count": 256,
   "id": "ef33397c",
   "metadata": {},
   "outputs": [],
   "source": [
    "test=test.join(encodingdatatest[cols1])"
   ]
  },
  {
   "cell_type": "code",
   "execution_count": 257,
   "id": "00d77a7e",
   "metadata": {},
   "outputs": [],
   "source": [
    "test['TotalCharges'] = test['TotalCharges'].replace(' ', value=0)\n",
    "test.TotalCharges = pd.to_numeric(test.TotalCharges)"
   ]
  },
  {
   "cell_type": "code",
   "execution_count": 258,
   "id": "07745c31",
   "metadata": {},
   "outputs": [],
   "source": [
    "scalardatatest=ss.fit(test[['tenure','MonthlyCharges','TotalCharges']])\n",
    "datatest=scalardatatest.transform(test[['tenure','MonthlyCharges','TotalCharges']])\n",
    "datatest=pd.DataFrame(datatest,columns=['tenure','MonthlyCharges','TotalCharges'])\n",
    "test.drop(columns=['tenure','MonthlyCharges','TotalCharges'],inplace=True)\n",
    "test=test.join(datatest)"
   ]
  },
  {
   "cell_type": "code",
   "execution_count": 259,
   "id": "f65ae3f5",
   "metadata": {},
   "outputs": [
    {
     "data": {
      "text/html": [
       "<div>\n",
       "<style scoped>\n",
       "    .dataframe tbody tr th:only-of-type {\n",
       "        vertical-align: middle;\n",
       "    }\n",
       "\n",
       "    .dataframe tbody tr th {\n",
       "        vertical-align: top;\n",
       "    }\n",
       "\n",
       "    .dataframe thead th {\n",
       "        text-align: right;\n",
       "    }\n",
       "</style>\n",
       "<table border=\"1\" class=\"dataframe\">\n",
       "  <thead>\n",
       "    <tr style=\"text-align: right;\">\n",
       "      <th></th>\n",
       "      <th>SeniorCitizen</th>\n",
       "      <th>gender</th>\n",
       "      <th>Partner</th>\n",
       "      <th>Dependents</th>\n",
       "      <th>PhoneService</th>\n",
       "      <th>MultipleLines</th>\n",
       "      <th>InternetService</th>\n",
       "      <th>OnlineSecurity</th>\n",
       "      <th>OnlineBackup</th>\n",
       "      <th>DeviceProtection</th>\n",
       "      <th>TechSupport</th>\n",
       "      <th>StreamingTV</th>\n",
       "      <th>StreamingMovies</th>\n",
       "      <th>Contract</th>\n",
       "      <th>PaperlessBilling</th>\n",
       "      <th>PaymentMethod</th>\n",
       "      <th>tenure</th>\n",
       "      <th>MonthlyCharges</th>\n",
       "      <th>TotalCharges</th>\n",
       "    </tr>\n",
       "  </thead>\n",
       "  <tbody>\n",
       "    <tr>\n",
       "      <th>66</th>\n",
       "      <td>1</td>\n",
       "      <td>1</td>\n",
       "      <td>0</td>\n",
       "      <td>0</td>\n",
       "      <td>1</td>\n",
       "      <td>1</td>\n",
       "      <td>0</td>\n",
       "      <td>1</td>\n",
       "      <td>1</td>\n",
       "      <td>0</td>\n",
       "      <td>1</td>\n",
       "      <td>0</td>\n",
       "      <td>0</td>\n",
       "      <td>2</td>\n",
       "      <td>1</td>\n",
       "      <td>0</td>\n",
       "      <td>1.394058</td>\n",
       "      <td>-0.004728</td>\n",
       "      <td>0.864582</td>\n",
       "    </tr>\n",
       "    <tr>\n",
       "      <th>936</th>\n",
       "      <td>0</td>\n",
       "      <td>0</td>\n",
       "      <td>0</td>\n",
       "      <td>0</td>\n",
       "      <td>1</td>\n",
       "      <td>0</td>\n",
       "      <td>0</td>\n",
       "      <td>1</td>\n",
       "      <td>1</td>\n",
       "      <td>0</td>\n",
       "      <td>0</td>\n",
       "      <td>0</td>\n",
       "      <td>0</td>\n",
       "      <td>0</td>\n",
       "      <td>0</td>\n",
       "      <td>2</td>\n",
       "      <td>-1.169730</td>\n",
       "      <td>-0.316082</td>\n",
       "      <td>-0.911839</td>\n",
       "    </tr>\n",
       "    <tr>\n",
       "      <th>15</th>\n",
       "      <td>0</td>\n",
       "      <td>0</td>\n",
       "      <td>1</td>\n",
       "      <td>0</td>\n",
       "      <td>1</td>\n",
       "      <td>1</td>\n",
       "      <td>2</td>\n",
       "      <td>0</td>\n",
       "      <td>0</td>\n",
       "      <td>0</td>\n",
       "      <td>0</td>\n",
       "      <td>0</td>\n",
       "      <td>0</td>\n",
       "      <td>2</td>\n",
       "      <td>0</td>\n",
       "      <td>1</td>\n",
       "      <td>1.597534</td>\n",
       "      <td>-1.321739</td>\n",
       "      <td>-0.193878</td>\n",
       "    </tr>\n",
       "  </tbody>\n",
       "</table>\n",
       "</div>"
      ],
      "text/plain": [
       "     SeniorCitizen  gender  Partner  Dependents  PhoneService  MultipleLines  \\\n",
       "66               1       1        0           0             1              1   \n",
       "936              0       0        0           0             1              0   \n",
       "15               0       0        1           0             1              1   \n",
       "\n",
       "     InternetService  OnlineSecurity  OnlineBackup  DeviceProtection  \\\n",
       "66                 0               1             1                 0   \n",
       "936                0               1             1                 0   \n",
       "15                 2               0             0                 0   \n",
       "\n",
       "     TechSupport  StreamingTV  StreamingMovies  Contract  PaperlessBilling  \\\n",
       "66             1            0                0         2                 1   \n",
       "936            0            0                0         0                 0   \n",
       "15             0            0                0         2                 0   \n",
       "\n",
       "     PaymentMethod    tenure  MonthlyCharges  TotalCharges  \n",
       "66               0  1.394058       -0.004728      0.864582  \n",
       "936              2 -1.169730       -0.316082     -0.911839  \n",
       "15               1  1.597534       -1.321739     -0.193878  "
      ]
     },
     "execution_count": 259,
     "metadata": {},
     "output_type": "execute_result"
    }
   ],
   "source": [
    "test.sample(n=3)"
   ]
  },
  {
   "cell_type": "markdown",
   "id": "1bcd2418",
   "metadata": {},
   "source": [
    "#### Logistic Regression"
   ]
  },
  {
   "cell_type": "code",
   "execution_count": 260,
   "id": "236cf907",
   "metadata": {},
   "outputs": [],
   "source": [
    "lr=LogisticRegression()"
   ]
  },
  {
   "cell_type": "code",
   "execution_count": 261,
   "id": "a294ffeb",
   "metadata": {},
   "outputs": [
    {
     "data": {
      "text/plain": [
       "LogisticRegression()"
      ]
     },
     "execution_count": 261,
     "metadata": {},
     "output_type": "execute_result"
    }
   ],
   "source": [
    "lr.fit(X_train,y_train)"
   ]
  },
  {
   "cell_type": "code",
   "execution_count": 262,
   "id": "719536a5",
   "metadata": {},
   "outputs": [],
   "source": [
    "lr_predictions=lr.predict(X_test)"
   ]
  },
  {
   "cell_type": "code",
   "execution_count": 263,
   "id": "c08c9c03",
   "metadata": {},
   "outputs": [
    {
     "name": "stdout",
     "output_type": "stream",
     "text": [
      "[[734  80]\n",
      " [138 175]]\n",
      "              precision    recall  f1-score   support\n",
      "\n",
      "           0       0.84      0.90      0.87       814\n",
      "           1       0.69      0.56      0.62       313\n",
      "\n",
      "    accuracy                           0.81      1127\n",
      "   macro avg       0.76      0.73      0.74      1127\n",
      "weighted avg       0.80      0.81      0.80      1127\n",
      "\n",
      "Accuracy Score 0.8065661047027507\n"
     ]
    }
   ],
   "source": [
    "print(confusion_matrix(y_test,lr_predictions))\n",
    "print(classification_report(y_test,lr_predictions))\n",
    "print(\"Accuracy Score {}\".format(accuracy_score(y_test,lr_predictions)))"
   ]
  },
  {
   "cell_type": "markdown",
   "id": "f7ef9c54",
   "metadata": {},
   "source": [
    "#### Decision Tree"
   ]
  },
  {
   "cell_type": "code",
   "execution_count": 264,
   "id": "80ca8efa",
   "metadata": {},
   "outputs": [],
   "source": [
    "dtc=DecisionTreeClassifier()"
   ]
  },
  {
   "cell_type": "code",
   "execution_count": 265,
   "id": "a3c03fa5",
   "metadata": {},
   "outputs": [
    {
     "data": {
      "text/plain": [
       "DecisionTreeClassifier()"
      ]
     },
     "execution_count": 265,
     "metadata": {},
     "output_type": "execute_result"
    }
   ],
   "source": [
    "dtc.fit(X_train,y_train)"
   ]
  },
  {
   "cell_type": "code",
   "execution_count": 266,
   "id": "46609509",
   "metadata": {},
   "outputs": [],
   "source": [
    "dt_predictions=dtc.predict(X_test)"
   ]
  },
  {
   "cell_type": "code",
   "execution_count": 267,
   "id": "731c0ba3",
   "metadata": {},
   "outputs": [
    {
     "name": "stdout",
     "output_type": "stream",
     "text": [
      "[[650 164]\n",
      " [144 169]]\n",
      "              precision    recall  f1-score   support\n",
      "\n",
      "           0       0.82      0.80      0.81       814\n",
      "           1       0.51      0.54      0.52       313\n",
      "\n",
      "    accuracy                           0.73      1127\n",
      "   macro avg       0.66      0.67      0.67      1127\n",
      "weighted avg       0.73      0.73      0.73      1127\n",
      "\n",
      "Accuracy Score 0.7267080745341615\n"
     ]
    }
   ],
   "source": [
    "print(confusion_matrix(y_test,dt_predictions))\n",
    "print(classification_report(y_test,dt_predictions))\n",
    "print(\"Accuracy Score {}\".format(accuracy_score(y_test,dt_predictions)))"
   ]
  },
  {
   "cell_type": "markdown",
   "id": "97ddd22c",
   "metadata": {},
   "source": [
    "#### Random Forest"
   ]
  },
  {
   "cell_type": "code",
   "execution_count": 268,
   "id": "e6973f7c",
   "metadata": {},
   "outputs": [],
   "source": [
    "rfc=RandomForestClassifier()"
   ]
  },
  {
   "cell_type": "code",
   "execution_count": 269,
   "id": "d95c2357",
   "metadata": {},
   "outputs": [
    {
     "data": {
      "text/plain": [
       "RandomForestClassifier()"
      ]
     },
     "execution_count": 269,
     "metadata": {},
     "output_type": "execute_result"
    }
   ],
   "source": [
    "rfc.fit(X_train,y_train)"
   ]
  },
  {
   "cell_type": "code",
   "execution_count": 270,
   "id": "fb1be147",
   "metadata": {},
   "outputs": [],
   "source": [
    "rf_predictions=rfc.predict(X_test)"
   ]
  },
  {
   "cell_type": "code",
   "execution_count": 271,
   "id": "8929c8ff",
   "metadata": {},
   "outputs": [
    {
     "name": "stdout",
     "output_type": "stream",
     "text": [
      "[[743  71]\n",
      " [157 156]]\n",
      "              precision    recall  f1-score   support\n",
      "\n",
      "           0       0.83      0.91      0.87       814\n",
      "           1       0.69      0.50      0.58       313\n",
      "\n",
      "    accuracy                           0.80      1127\n",
      "   macro avg       0.76      0.71      0.72      1127\n",
      "weighted avg       0.79      0.80      0.79      1127\n",
      "\n",
      "Accuracy Score 0.7976929902395741\n"
     ]
    }
   ],
   "source": [
    "print(confusion_matrix(y_test,rf_predictions))\n",
    "print(classification_report(y_test,rf_predictions))\n",
    "print(\"Accuracy Score {}\".format(accuracy_score(y_test,rf_predictions)))"
   ]
  },
  {
   "cell_type": "markdown",
   "id": "9f3d9683",
   "metadata": {},
   "source": [
    "#### Randomized Search Cv - Random Forest"
   ]
  },
  {
   "cell_type": "code",
   "execution_count": 272,
   "id": "832d0687",
   "metadata": {},
   "outputs": [
    {
     "name": "stdout",
     "output_type": "stream",
     "text": [
      "{'n_estimators': [200, 400, 600, 800, 1000, 1200, 1400, 1600, 1800, 2000], 'max_features': ['auto', 'sqrt', 'log2'], 'max_depth': [10, 120, 230, 340, 450, 560, 670, 780, 890, 1000], 'min_samples_split': [2, 5, 10, 14], 'min_samples_leaf': [1, 2, 4, 6, 8], 'criterion': ['entropy', 'gini']}\n"
     ]
    }
   ],
   "source": [
    "from sklearn.model_selection import RandomizedSearchCV\n",
    "# Number of trees in random forest\n",
    "n_estimators = [int(x) for x in np.linspace(start = 200, stop = 2000, num = 10)]\n",
    "# Number of features to consider at every split\n",
    "max_features = ['auto', 'sqrt','log2']\n",
    "# Maximum number of levels in tree\n",
    "max_depth = [int(x) for x in np.linspace(10, 1000,10)]\n",
    "# Minimum number of samples required to split a node\n",
    "min_samples_split = [2, 5, 10,14]\n",
    "# Minimum number of samples required at each leaf node\n",
    "min_samples_leaf = [1, 2, 4,6,8]\n",
    "# Create the random grid\n",
    "random_grid = {'n_estimators': n_estimators,\n",
    "               'max_features': max_features,\n",
    "               'max_depth': max_depth,\n",
    "               'min_samples_split': min_samples_split,\n",
    "               'min_samples_leaf': min_samples_leaf,\n",
    "              'criterion':['entropy','gini']}\n",
    "print(random_grid)"
   ]
  },
  {
   "cell_type": "code",
   "execution_count": 273,
   "id": "770eac88",
   "metadata": {},
   "outputs": [
    {
     "name": "stdout",
     "output_type": "stream",
     "text": [
      "Fitting 3 folds for each of 100 candidates, totalling 300 fits\n"
     ]
    },
    {
     "data": {
      "text/plain": [
       "RandomizedSearchCV(cv=3, estimator=RandomForestClassifier(), n_iter=100,\n",
       "                   n_jobs=-1,\n",
       "                   param_distributions={'criterion': ['entropy', 'gini'],\n",
       "                                        'max_depth': [10, 120, 230, 340, 450,\n",
       "                                                      560, 670, 780, 890,\n",
       "                                                      1000],\n",
       "                                        'max_features': ['auto', 'sqrt',\n",
       "                                                         'log2'],\n",
       "                                        'min_samples_leaf': [1, 2, 4, 6, 8],\n",
       "                                        'min_samples_split': [2, 5, 10, 14],\n",
       "                                        'n_estimators': [200, 400, 600, 800,\n",
       "                                                         1000, 1200, 1400, 1600,\n",
       "                                                         1800, 2000]},\n",
       "                   random_state=100, verbose=2)"
      ]
     },
     "execution_count": 273,
     "metadata": {},
     "output_type": "execute_result"
    }
   ],
   "source": [
    "rf_randomcv=RandomizedSearchCV(estimator=rfc,param_distributions=random_grid,n_iter=100,cv=3,verbose=2,\n",
    "                               random_state=100,n_jobs=-1)\n",
    "### fit the randomized model\n",
    "rf_randomcv.fit(X_train,y_train)"
   ]
  },
  {
   "cell_type": "code",
   "execution_count": 274,
   "id": "90ed9b41",
   "metadata": {},
   "outputs": [
    {
     "data": {
      "text/plain": [
       "{'n_estimators': 1600,\n",
       " 'min_samples_split': 14,\n",
       " 'min_samples_leaf': 6,\n",
       " 'max_features': 'sqrt',\n",
       " 'max_depth': 780,\n",
       " 'criterion': 'gini'}"
      ]
     },
     "execution_count": 274,
     "metadata": {},
     "output_type": "execute_result"
    }
   ],
   "source": [
    "rf_randomcv.best_params_"
   ]
  },
  {
   "cell_type": "code",
   "execution_count": 275,
   "id": "06d278bb",
   "metadata": {},
   "outputs": [],
   "source": [
    "best_random_grid=rf_randomcv.best_estimator_"
   ]
  },
  {
   "cell_type": "code",
   "execution_count": 276,
   "id": "e2a919cd",
   "metadata": {},
   "outputs": [],
   "source": [
    "rf_predictions_rs=best_random_grid.predict(X_test)"
   ]
  },
  {
   "cell_type": "code",
   "execution_count": 277,
   "id": "d264d31c",
   "metadata": {},
   "outputs": [
    {
     "name": "stdout",
     "output_type": "stream",
     "text": [
      "[[749  65]\n",
      " [155 158]]\n",
      "              precision    recall  f1-score   support\n",
      "\n",
      "           0       0.83      0.92      0.87       814\n",
      "           1       0.71      0.50      0.59       313\n",
      "\n",
      "    accuracy                           0.80      1127\n",
      "   macro avg       0.77      0.71      0.73      1127\n",
      "weighted avg       0.80      0.80      0.79      1127\n",
      "\n",
      "Accuracy Score 0.8047914818101154\n"
     ]
    }
   ],
   "source": [
    "print(confusion_matrix(y_test,rf_predictions_rs))\n",
    "print(classification_report(y_test,rf_predictions_rs))\n",
    "print(\"Accuracy Score {}\".format(accuracy_score(y_test,rf_predictions_rs)))"
   ]
  },
  {
   "cell_type": "markdown",
   "id": "39a92dde",
   "metadata": {},
   "source": [
    "#### Predicting for Test dataset with RandomForest with Randomized Search as I got best Accuracy score for this"
   ]
  },
  {
   "cell_type": "code",
   "execution_count": 278,
   "id": "0b893149",
   "metadata": {},
   "outputs": [],
   "source": [
    "predictions=best_random_grid.predict(test)"
   ]
  },
  {
   "cell_type": "code",
   "execution_count": 279,
   "id": "46a4a391",
   "metadata": {},
   "outputs": [],
   "source": [
    "prediction = pd.DataFrame(predictions, columns=['predictions']).to_csv('prediction.csv',index=False,header=False)"
   ]
  },
  {
   "cell_type": "code",
   "execution_count": null,
   "id": "75993487",
   "metadata": {},
   "outputs": [],
   "source": []
  },
  {
   "cell_type": "markdown",
   "id": "1d889d89",
   "metadata": {},
   "source": [
    "#### Trying with another option, removing, TotalCharges, MonthlyCharges and using OneHot Encoding with Contract and PaymentMethod"
   ]
  },
  {
   "cell_type": "code",
   "execution_count": 280,
   "id": "a3993395",
   "metadata": {},
   "outputs": [
    {
     "data": {
      "text/html": [
       "<div>\n",
       "<style scoped>\n",
       "    .dataframe tbody tr th:only-of-type {\n",
       "        vertical-align: middle;\n",
       "    }\n",
       "\n",
       "    .dataframe tbody tr th {\n",
       "        vertical-align: top;\n",
       "    }\n",
       "\n",
       "    .dataframe thead th {\n",
       "        text-align: right;\n",
       "    }\n",
       "</style>\n",
       "<table border=\"1\" class=\"dataframe\">\n",
       "  <thead>\n",
       "    <tr style=\"text-align: right;\">\n",
       "      <th></th>\n",
       "      <th>customerID</th>\n",
       "      <th>gender</th>\n",
       "      <th>SeniorCitizen</th>\n",
       "      <th>Partner</th>\n",
       "      <th>Dependents</th>\n",
       "      <th>tenure</th>\n",
       "      <th>PhoneService</th>\n",
       "      <th>MultipleLines</th>\n",
       "      <th>InternetService</th>\n",
       "      <th>OnlineSecurity</th>\n",
       "      <th>...</th>\n",
       "      <th>DeviceProtection</th>\n",
       "      <th>TechSupport</th>\n",
       "      <th>StreamingTV</th>\n",
       "      <th>StreamingMovies</th>\n",
       "      <th>Contract</th>\n",
       "      <th>PaperlessBilling</th>\n",
       "      <th>PaymentMethod</th>\n",
       "      <th>MonthlyCharges</th>\n",
       "      <th>TotalCharges</th>\n",
       "      <th>Churn</th>\n",
       "    </tr>\n",
       "  </thead>\n",
       "  <tbody>\n",
       "    <tr>\n",
       "      <th>0</th>\n",
       "      <td>5442-PPTJY</td>\n",
       "      <td>Male</td>\n",
       "      <td>0</td>\n",
       "      <td>Yes</td>\n",
       "      <td>Yes</td>\n",
       "      <td>12</td>\n",
       "      <td>Yes</td>\n",
       "      <td>No</td>\n",
       "      <td>No</td>\n",
       "      <td>No internet service</td>\n",
       "      <td>...</td>\n",
       "      <td>No internet service</td>\n",
       "      <td>No internet service</td>\n",
       "      <td>No internet service</td>\n",
       "      <td>No internet service</td>\n",
       "      <td>Two year</td>\n",
       "      <td>No</td>\n",
       "      <td>Mailed check</td>\n",
       "      <td>19.70</td>\n",
       "      <td>258.35</td>\n",
       "      <td>No</td>\n",
       "    </tr>\n",
       "    <tr>\n",
       "      <th>1</th>\n",
       "      <td>6261-RCVNS</td>\n",
       "      <td>Female</td>\n",
       "      <td>0</td>\n",
       "      <td>No</td>\n",
       "      <td>No</td>\n",
       "      <td>42</td>\n",
       "      <td>Yes</td>\n",
       "      <td>No</td>\n",
       "      <td>DSL</td>\n",
       "      <td>Yes</td>\n",
       "      <td>...</td>\n",
       "      <td>Yes</td>\n",
       "      <td>Yes</td>\n",
       "      <td>No</td>\n",
       "      <td>Yes</td>\n",
       "      <td>One year</td>\n",
       "      <td>No</td>\n",
       "      <td>Credit card (automatic)</td>\n",
       "      <td>73.90</td>\n",
       "      <td>3160.55</td>\n",
       "      <td>Yes</td>\n",
       "    </tr>\n",
       "    <tr>\n",
       "      <th>2</th>\n",
       "      <td>2176-OSJUV</td>\n",
       "      <td>Male</td>\n",
       "      <td>0</td>\n",
       "      <td>Yes</td>\n",
       "      <td>No</td>\n",
       "      <td>71</td>\n",
       "      <td>Yes</td>\n",
       "      <td>Yes</td>\n",
       "      <td>DSL</td>\n",
       "      <td>Yes</td>\n",
       "      <td>...</td>\n",
       "      <td>No</td>\n",
       "      <td>Yes</td>\n",
       "      <td>No</td>\n",
       "      <td>No</td>\n",
       "      <td>Two year</td>\n",
       "      <td>No</td>\n",
       "      <td>Bank transfer (automatic)</td>\n",
       "      <td>65.15</td>\n",
       "      <td>4681.75</td>\n",
       "      <td>No</td>\n",
       "    </tr>\n",
       "    <tr>\n",
       "      <th>3</th>\n",
       "      <td>6161-ERDGD</td>\n",
       "      <td>Male</td>\n",
       "      <td>0</td>\n",
       "      <td>Yes</td>\n",
       "      <td>Yes</td>\n",
       "      <td>71</td>\n",
       "      <td>Yes</td>\n",
       "      <td>Yes</td>\n",
       "      <td>DSL</td>\n",
       "      <td>Yes</td>\n",
       "      <td>...</td>\n",
       "      <td>Yes</td>\n",
       "      <td>Yes</td>\n",
       "      <td>Yes</td>\n",
       "      <td>Yes</td>\n",
       "      <td>One year</td>\n",
       "      <td>No</td>\n",
       "      <td>Electronic check</td>\n",
       "      <td>85.45</td>\n",
       "      <td>6300.85</td>\n",
       "      <td>No</td>\n",
       "    </tr>\n",
       "    <tr>\n",
       "      <th>4</th>\n",
       "      <td>2364-UFROM</td>\n",
       "      <td>Male</td>\n",
       "      <td>0</td>\n",
       "      <td>No</td>\n",
       "      <td>No</td>\n",
       "      <td>30</td>\n",
       "      <td>Yes</td>\n",
       "      <td>No</td>\n",
       "      <td>DSL</td>\n",
       "      <td>Yes</td>\n",
       "      <td>...</td>\n",
       "      <td>No</td>\n",
       "      <td>Yes</td>\n",
       "      <td>Yes</td>\n",
       "      <td>No</td>\n",
       "      <td>One year</td>\n",
       "      <td>No</td>\n",
       "      <td>Electronic check</td>\n",
       "      <td>70.40</td>\n",
       "      <td>2044.75</td>\n",
       "      <td>No</td>\n",
       "    </tr>\n",
       "  </tbody>\n",
       "</table>\n",
       "<p>5 rows × 21 columns</p>\n",
       "</div>"
      ],
      "text/plain": [
       "   customerID  gender  SeniorCitizen Partner Dependents  tenure PhoneService  \\\n",
       "0  5442-PPTJY    Male              0     Yes        Yes      12          Yes   \n",
       "1  6261-RCVNS  Female              0      No         No      42          Yes   \n",
       "2  2176-OSJUV    Male              0     Yes         No      71          Yes   \n",
       "3  6161-ERDGD    Male              0     Yes        Yes      71          Yes   \n",
       "4  2364-UFROM    Male              0      No         No      30          Yes   \n",
       "\n",
       "  MultipleLines InternetService       OnlineSecurity  ...  \\\n",
       "0            No              No  No internet service  ...   \n",
       "1            No             DSL                  Yes  ...   \n",
       "2           Yes             DSL                  Yes  ...   \n",
       "3           Yes             DSL                  Yes  ...   \n",
       "4            No             DSL                  Yes  ...   \n",
       "\n",
       "      DeviceProtection          TechSupport          StreamingTV  \\\n",
       "0  No internet service  No internet service  No internet service   \n",
       "1                  Yes                  Yes                   No   \n",
       "2                   No                  Yes                   No   \n",
       "3                  Yes                  Yes                  Yes   \n",
       "4                   No                  Yes                  Yes   \n",
       "\n",
       "       StreamingMovies  Contract PaperlessBilling              PaymentMethod  \\\n",
       "0  No internet service  Two year               No               Mailed check   \n",
       "1                  Yes  One year               No    Credit card (automatic)   \n",
       "2                   No  Two year               No  Bank transfer (automatic)   \n",
       "3                  Yes  One year               No           Electronic check   \n",
       "4                   No  One year               No           Electronic check   \n",
       "\n",
       "  MonthlyCharges  TotalCharges Churn  \n",
       "0          19.70        258.35    No  \n",
       "1          73.90       3160.55   Yes  \n",
       "2          65.15       4681.75    No  \n",
       "3          85.45       6300.85    No  \n",
       "4          70.40       2044.75    No  \n",
       "\n",
       "[5 rows x 21 columns]"
      ]
     },
     "execution_count": 280,
     "metadata": {},
     "output_type": "execute_result"
    }
   ],
   "source": [
    "df_train=pd.read_csv('Churn_train.csv')\n",
    "df_train.head()"
   ]
  },
  {
   "cell_type": "code",
   "execution_count": 281,
   "id": "0a1175db",
   "metadata": {},
   "outputs": [],
   "source": [
    "df_train.drop(columns=['customerID','MonthlyCharges','TotalCharges'],inplace=True)"
   ]
  },
  {
   "cell_type": "code",
   "execution_count": 282,
   "id": "0541ca14",
   "metadata": {},
   "outputs": [],
   "source": [
    "#change the 'No phone/internet service' to 'No', because it's not adding any new informaion\n",
    "df_train=df_train.replace(to_replace='No internet service',value='No')\n",
    "df_train=df_train.replace(to_replace='No phone service',value='No')"
   ]
  },
  {
   "cell_type": "code",
   "execution_count": 283,
   "id": "dd4d0764",
   "metadata": {},
   "outputs": [],
   "source": [
    "df_train['PaymentMethod']=df_train['PaymentMethod'].replace(to_replace='Bank transfer (automatic)',value='Bank transfer')\n",
    "df_train['PaymentMethod']=df_train['PaymentMethod'].replace(to_replace='Credit card (automatic)',value='Credit card')"
   ]
  },
  {
   "cell_type": "code",
   "execution_count": 284,
   "id": "b7c1fc44",
   "metadata": {},
   "outputs": [],
   "source": [
    "cols2=['gender','Partner','Dependents','PhoneService','MultipleLines','InternetService','OnlineSecurity','OnlineBackup',\n",
    "     'DeviceProtection','TechSupport','StreamingTV','StreamingMovies','PaperlessBilling','Churn']"
   ]
  },
  {
   "cell_type": "code",
   "execution_count": 285,
   "id": "f0480365",
   "metadata": {},
   "outputs": [],
   "source": [
    "data_encode=df_train[cols2].apply(le.fit_transform)"
   ]
  },
  {
   "cell_type": "code",
   "execution_count": 286,
   "id": "85cbf305",
   "metadata": {},
   "outputs": [],
   "source": [
    "df_train.drop(columns=cols2,inplace=True)"
   ]
  },
  {
   "cell_type": "code",
   "execution_count": 287,
   "id": "7850f68e",
   "metadata": {},
   "outputs": [],
   "source": [
    "df_train=df_train.join(data_encode[cols2])"
   ]
  },
  {
   "cell_type": "code",
   "execution_count": 288,
   "id": "7d5b8d51",
   "metadata": {},
   "outputs": [
    {
     "data": {
      "text/html": [
       "<div>\n",
       "<style scoped>\n",
       "    .dataframe tbody tr th:only-of-type {\n",
       "        vertical-align: middle;\n",
       "    }\n",
       "\n",
       "    .dataframe tbody tr th {\n",
       "        vertical-align: top;\n",
       "    }\n",
       "\n",
       "    .dataframe thead th {\n",
       "        text-align: right;\n",
       "    }\n",
       "</style>\n",
       "<table border=\"1\" class=\"dataframe\">\n",
       "  <thead>\n",
       "    <tr style=\"text-align: right;\">\n",
       "      <th></th>\n",
       "      <th>SeniorCitizen</th>\n",
       "      <th>tenure</th>\n",
       "      <th>Contract</th>\n",
       "      <th>PaymentMethod</th>\n",
       "      <th>gender</th>\n",
       "      <th>Partner</th>\n",
       "      <th>Dependents</th>\n",
       "      <th>PhoneService</th>\n",
       "      <th>MultipleLines</th>\n",
       "      <th>InternetService</th>\n",
       "      <th>OnlineSecurity</th>\n",
       "      <th>OnlineBackup</th>\n",
       "      <th>DeviceProtection</th>\n",
       "      <th>TechSupport</th>\n",
       "      <th>StreamingTV</th>\n",
       "      <th>StreamingMovies</th>\n",
       "      <th>PaperlessBilling</th>\n",
       "      <th>Churn</th>\n",
       "    </tr>\n",
       "  </thead>\n",
       "  <tbody>\n",
       "    <tr>\n",
       "      <th>5279</th>\n",
       "      <td>0</td>\n",
       "      <td>4</td>\n",
       "      <td>Month-to-month</td>\n",
       "      <td>Electronic check</td>\n",
       "      <td>1</td>\n",
       "      <td>0</td>\n",
       "      <td>0</td>\n",
       "      <td>1</td>\n",
       "      <td>1</td>\n",
       "      <td>1</td>\n",
       "      <td>0</td>\n",
       "      <td>0</td>\n",
       "      <td>0</td>\n",
       "      <td>0</td>\n",
       "      <td>0</td>\n",
       "      <td>1</td>\n",
       "      <td>1</td>\n",
       "      <td>1</td>\n",
       "    </tr>\n",
       "    <tr>\n",
       "      <th>1676</th>\n",
       "      <td>0</td>\n",
       "      <td>22</td>\n",
       "      <td>One year</td>\n",
       "      <td>Credit card</td>\n",
       "      <td>1</td>\n",
       "      <td>1</td>\n",
       "      <td>0</td>\n",
       "      <td>1</td>\n",
       "      <td>0</td>\n",
       "      <td>0</td>\n",
       "      <td>1</td>\n",
       "      <td>0</td>\n",
       "      <td>0</td>\n",
       "      <td>1</td>\n",
       "      <td>0</td>\n",
       "      <td>0</td>\n",
       "      <td>1</td>\n",
       "      <td>0</td>\n",
       "    </tr>\n",
       "    <tr>\n",
       "      <th>5587</th>\n",
       "      <td>1</td>\n",
       "      <td>58</td>\n",
       "      <td>Month-to-month</td>\n",
       "      <td>Electronic check</td>\n",
       "      <td>1</td>\n",
       "      <td>1</td>\n",
       "      <td>0</td>\n",
       "      <td>1</td>\n",
       "      <td>1</td>\n",
       "      <td>1</td>\n",
       "      <td>0</td>\n",
       "      <td>0</td>\n",
       "      <td>1</td>\n",
       "      <td>0</td>\n",
       "      <td>1</td>\n",
       "      <td>1</td>\n",
       "      <td>1</td>\n",
       "      <td>1</td>\n",
       "    </tr>\n",
       "  </tbody>\n",
       "</table>\n",
       "</div>"
      ],
      "text/plain": [
       "      SeniorCitizen  tenure        Contract     PaymentMethod  gender  \\\n",
       "5279              0       4  Month-to-month  Electronic check       1   \n",
       "1676              0      22        One year       Credit card       1   \n",
       "5587              1      58  Month-to-month  Electronic check       1   \n",
       "\n",
       "      Partner  Dependents  PhoneService  MultipleLines  InternetService  \\\n",
       "5279        0           0             1              1                1   \n",
       "1676        1           0             1              0                0   \n",
       "5587        1           0             1              1                1   \n",
       "\n",
       "      OnlineSecurity  OnlineBackup  DeviceProtection  TechSupport  \\\n",
       "5279               0             0                 0            0   \n",
       "1676               1             0                 0            1   \n",
       "5587               0             0                 1            0   \n",
       "\n",
       "      StreamingTV  StreamingMovies  PaperlessBilling  Churn  \n",
       "5279            0                1                 1      1  \n",
       "1676            0                0                 1      0  \n",
       "5587            1                1                 1      1  "
      ]
     },
     "execution_count": 288,
     "metadata": {},
     "output_type": "execute_result"
    }
   ],
   "source": [
    "df_train.sample(n=3)"
   ]
  },
  {
   "cell_type": "code",
   "execution_count": 289,
   "id": "4b687e4a",
   "metadata": {},
   "outputs": [],
   "source": [
    "df_train=pd.get_dummies(df_train,columns=['Contract','PaymentMethod'],drop_first=True)"
   ]
  },
  {
   "cell_type": "code",
   "execution_count": 290,
   "id": "0d5fddfb",
   "metadata": {},
   "outputs": [
    {
     "data": {
      "text/html": [
       "<div>\n",
       "<style scoped>\n",
       "    .dataframe tbody tr th:only-of-type {\n",
       "        vertical-align: middle;\n",
       "    }\n",
       "\n",
       "    .dataframe tbody tr th {\n",
       "        vertical-align: top;\n",
       "    }\n",
       "\n",
       "    .dataframe thead th {\n",
       "        text-align: right;\n",
       "    }\n",
       "</style>\n",
       "<table border=\"1\" class=\"dataframe\">\n",
       "  <thead>\n",
       "    <tr style=\"text-align: right;\">\n",
       "      <th></th>\n",
       "      <th>SeniorCitizen</th>\n",
       "      <th>tenure</th>\n",
       "      <th>gender</th>\n",
       "      <th>Partner</th>\n",
       "      <th>Dependents</th>\n",
       "      <th>PhoneService</th>\n",
       "      <th>MultipleLines</th>\n",
       "      <th>InternetService</th>\n",
       "      <th>OnlineSecurity</th>\n",
       "      <th>OnlineBackup</th>\n",
       "      <th>...</th>\n",
       "      <th>TechSupport</th>\n",
       "      <th>StreamingTV</th>\n",
       "      <th>StreamingMovies</th>\n",
       "      <th>PaperlessBilling</th>\n",
       "      <th>Churn</th>\n",
       "      <th>Contract_One year</th>\n",
       "      <th>Contract_Two year</th>\n",
       "      <th>PaymentMethod_Credit card</th>\n",
       "      <th>PaymentMethod_Electronic check</th>\n",
       "      <th>PaymentMethod_Mailed check</th>\n",
       "    </tr>\n",
       "  </thead>\n",
       "  <tbody>\n",
       "    <tr>\n",
       "      <th>5428</th>\n",
       "      <td>1</td>\n",
       "      <td>22</td>\n",
       "      <td>1</td>\n",
       "      <td>0</td>\n",
       "      <td>0</td>\n",
       "      <td>1</td>\n",
       "      <td>1</td>\n",
       "      <td>1</td>\n",
       "      <td>0</td>\n",
       "      <td>0</td>\n",
       "      <td>...</td>\n",
       "      <td>0</td>\n",
       "      <td>1</td>\n",
       "      <td>1</td>\n",
       "      <td>1</td>\n",
       "      <td>1</td>\n",
       "      <td>0</td>\n",
       "      <td>0</td>\n",
       "      <td>0</td>\n",
       "      <td>1</td>\n",
       "      <td>0</td>\n",
       "    </tr>\n",
       "    <tr>\n",
       "      <th>4187</th>\n",
       "      <td>0</td>\n",
       "      <td>68</td>\n",
       "      <td>1</td>\n",
       "      <td>0</td>\n",
       "      <td>0</td>\n",
       "      <td>1</td>\n",
       "      <td>1</td>\n",
       "      <td>2</td>\n",
       "      <td>0</td>\n",
       "      <td>0</td>\n",
       "      <td>...</td>\n",
       "      <td>0</td>\n",
       "      <td>0</td>\n",
       "      <td>0</td>\n",
       "      <td>1</td>\n",
       "      <td>0</td>\n",
       "      <td>0</td>\n",
       "      <td>1</td>\n",
       "      <td>0</td>\n",
       "      <td>0</td>\n",
       "      <td>0</td>\n",
       "    </tr>\n",
       "    <tr>\n",
       "      <th>4708</th>\n",
       "      <td>0</td>\n",
       "      <td>11</td>\n",
       "      <td>0</td>\n",
       "      <td>1</td>\n",
       "      <td>1</td>\n",
       "      <td>1</td>\n",
       "      <td>0</td>\n",
       "      <td>0</td>\n",
       "      <td>1</td>\n",
       "      <td>0</td>\n",
       "      <td>...</td>\n",
       "      <td>0</td>\n",
       "      <td>0</td>\n",
       "      <td>0</td>\n",
       "      <td>0</td>\n",
       "      <td>0</td>\n",
       "      <td>0</td>\n",
       "      <td>0</td>\n",
       "      <td>0</td>\n",
       "      <td>0</td>\n",
       "      <td>0</td>\n",
       "    </tr>\n",
       "  </tbody>\n",
       "</table>\n",
       "<p>3 rows × 21 columns</p>\n",
       "</div>"
      ],
      "text/plain": [
       "      SeniorCitizen  tenure  gender  Partner  Dependents  PhoneService  \\\n",
       "5428              1      22       1        0           0             1   \n",
       "4187              0      68       1        0           0             1   \n",
       "4708              0      11       0        1           1             1   \n",
       "\n",
       "      MultipleLines  InternetService  OnlineSecurity  OnlineBackup  ...  \\\n",
       "5428              1                1               0             0  ...   \n",
       "4187              1                2               0             0  ...   \n",
       "4708              0                0               1             0  ...   \n",
       "\n",
       "      TechSupport  StreamingTV  StreamingMovies  PaperlessBilling  Churn  \\\n",
       "5428            0            1                1                 1      1   \n",
       "4187            0            0                0                 1      0   \n",
       "4708            0            0                0                 0      0   \n",
       "\n",
       "      Contract_One year  Contract_Two year  PaymentMethod_Credit card  \\\n",
       "5428                  0                  0                          0   \n",
       "4187                  0                  1                          0   \n",
       "4708                  0                  0                          0   \n",
       "\n",
       "      PaymentMethod_Electronic check  PaymentMethod_Mailed check  \n",
       "5428                               1                           0  \n",
       "4187                               0                           0  \n",
       "4708                               0                           0  \n",
       "\n",
       "[3 rows x 21 columns]"
      ]
     },
     "execution_count": 290,
     "metadata": {},
     "output_type": "execute_result"
    }
   ],
   "source": [
    "df_train.sample(n=3)"
   ]
  },
  {
   "cell_type": "code",
   "execution_count": 291,
   "id": "81038b64",
   "metadata": {},
   "outputs": [],
   "source": [
    "X=df_train.drop('Churn',axis=1)\n",
    "y=df_train['Churn']"
   ]
  },
  {
   "cell_type": "code",
   "execution_count": 292,
   "id": "f48e8167",
   "metadata": {},
   "outputs": [],
   "source": [
    "X_train, X_test, y_train, y_test = train_test_split(X, y, test_size=0.20, random_state=1)"
   ]
  },
  {
   "cell_type": "markdown",
   "id": "faacbea3",
   "metadata": {},
   "source": [
    "#### Working with Test Data"
   ]
  },
  {
   "cell_type": "code",
   "execution_count": 293,
   "id": "6a252e78",
   "metadata": {},
   "outputs": [
    {
     "data": {
      "text/html": [
       "<div>\n",
       "<style scoped>\n",
       "    .dataframe tbody tr th:only-of-type {\n",
       "        vertical-align: middle;\n",
       "    }\n",
       "\n",
       "    .dataframe tbody tr th {\n",
       "        vertical-align: top;\n",
       "    }\n",
       "\n",
       "    .dataframe thead th {\n",
       "        text-align: right;\n",
       "    }\n",
       "</style>\n",
       "<table border=\"1\" class=\"dataframe\">\n",
       "  <thead>\n",
       "    <tr style=\"text-align: right;\">\n",
       "      <th></th>\n",
       "      <th>customerID</th>\n",
       "      <th>gender</th>\n",
       "      <th>SeniorCitizen</th>\n",
       "      <th>Partner</th>\n",
       "      <th>Dependents</th>\n",
       "      <th>tenure</th>\n",
       "      <th>PhoneService</th>\n",
       "      <th>MultipleLines</th>\n",
       "      <th>InternetService</th>\n",
       "      <th>OnlineSecurity</th>\n",
       "      <th>OnlineBackup</th>\n",
       "      <th>DeviceProtection</th>\n",
       "      <th>TechSupport</th>\n",
       "      <th>StreamingTV</th>\n",
       "      <th>StreamingMovies</th>\n",
       "      <th>Contract</th>\n",
       "      <th>PaperlessBilling</th>\n",
       "      <th>PaymentMethod</th>\n",
       "      <th>MonthlyCharges</th>\n",
       "      <th>TotalCharges</th>\n",
       "    </tr>\n",
       "  </thead>\n",
       "  <tbody>\n",
       "    <tr>\n",
       "      <th>0</th>\n",
       "      <td>8879-ZKJOF</td>\n",
       "      <td>Female</td>\n",
       "      <td>0</td>\n",
       "      <td>No</td>\n",
       "      <td>No</td>\n",
       "      <td>41</td>\n",
       "      <td>Yes</td>\n",
       "      <td>No</td>\n",
       "      <td>DSL</td>\n",
       "      <td>Yes</td>\n",
       "      <td>No</td>\n",
       "      <td>Yes</td>\n",
       "      <td>Yes</td>\n",
       "      <td>Yes</td>\n",
       "      <td>Yes</td>\n",
       "      <td>One year</td>\n",
       "      <td>Yes</td>\n",
       "      <td>Bank transfer (automatic)</td>\n",
       "      <td>79.85</td>\n",
       "      <td>3320.75</td>\n",
       "    </tr>\n",
       "    <tr>\n",
       "      <th>1</th>\n",
       "      <td>0201-MIBOL</td>\n",
       "      <td>Female</td>\n",
       "      <td>1</td>\n",
       "      <td>No</td>\n",
       "      <td>No</td>\n",
       "      <td>66</td>\n",
       "      <td>Yes</td>\n",
       "      <td>Yes</td>\n",
       "      <td>Fiber optic</td>\n",
       "      <td>Yes</td>\n",
       "      <td>No</td>\n",
       "      <td>No</td>\n",
       "      <td>No</td>\n",
       "      <td>Yes</td>\n",
       "      <td>Yes</td>\n",
       "      <td>Two year</td>\n",
       "      <td>Yes</td>\n",
       "      <td>Bank transfer (automatic)</td>\n",
       "      <td>102.40</td>\n",
       "      <td>6471.85</td>\n",
       "    </tr>\n",
       "    <tr>\n",
       "      <th>2</th>\n",
       "      <td>1600-DILPE</td>\n",
       "      <td>Female</td>\n",
       "      <td>0</td>\n",
       "      <td>No</td>\n",
       "      <td>No</td>\n",
       "      <td>12</td>\n",
       "      <td>Yes</td>\n",
       "      <td>No</td>\n",
       "      <td>DSL</td>\n",
       "      <td>No</td>\n",
       "      <td>No</td>\n",
       "      <td>No</td>\n",
       "      <td>No</td>\n",
       "      <td>No</td>\n",
       "      <td>No</td>\n",
       "      <td>Month-to-month</td>\n",
       "      <td>Yes</td>\n",
       "      <td>Bank transfer (automatic)</td>\n",
       "      <td>45.00</td>\n",
       "      <td>524.35</td>\n",
       "    </tr>\n",
       "    <tr>\n",
       "      <th>3</th>\n",
       "      <td>8601-QACRS</td>\n",
       "      <td>Female</td>\n",
       "      <td>0</td>\n",
       "      <td>No</td>\n",
       "      <td>No</td>\n",
       "      <td>5</td>\n",
       "      <td>Yes</td>\n",
       "      <td>Yes</td>\n",
       "      <td>DSL</td>\n",
       "      <td>No</td>\n",
       "      <td>No</td>\n",
       "      <td>No</td>\n",
       "      <td>No</td>\n",
       "      <td>No</td>\n",
       "      <td>No</td>\n",
       "      <td>Month-to-month</td>\n",
       "      <td>Yes</td>\n",
       "      <td>Mailed check</td>\n",
       "      <td>50.60</td>\n",
       "      <td>249.95</td>\n",
       "    </tr>\n",
       "    <tr>\n",
       "      <th>4</th>\n",
       "      <td>7919-ZODZZ</td>\n",
       "      <td>Female</td>\n",
       "      <td>0</td>\n",
       "      <td>Yes</td>\n",
       "      <td>Yes</td>\n",
       "      <td>10</td>\n",
       "      <td>Yes</td>\n",
       "      <td>No</td>\n",
       "      <td>DSL</td>\n",
       "      <td>No</td>\n",
       "      <td>Yes</td>\n",
       "      <td>Yes</td>\n",
       "      <td>No</td>\n",
       "      <td>No</td>\n",
       "      <td>Yes</td>\n",
       "      <td>One year</td>\n",
       "      <td>Yes</td>\n",
       "      <td>Mailed check</td>\n",
       "      <td>65.90</td>\n",
       "      <td>660.05</td>\n",
       "    </tr>\n",
       "  </tbody>\n",
       "</table>\n",
       "</div>"
      ],
      "text/plain": [
       "   customerID  gender  SeniorCitizen Partner Dependents  tenure PhoneService  \\\n",
       "0  8879-ZKJOF  Female              0      No         No      41          Yes   \n",
       "1  0201-MIBOL  Female              1      No         No      66          Yes   \n",
       "2  1600-DILPE  Female              0      No         No      12          Yes   \n",
       "3  8601-QACRS  Female              0      No         No       5          Yes   \n",
       "4  7919-ZODZZ  Female              0     Yes        Yes      10          Yes   \n",
       "\n",
       "  MultipleLines InternetService OnlineSecurity OnlineBackup DeviceProtection  \\\n",
       "0            No             DSL            Yes           No              Yes   \n",
       "1           Yes     Fiber optic            Yes           No               No   \n",
       "2            No             DSL             No           No               No   \n",
       "3           Yes             DSL             No           No               No   \n",
       "4            No             DSL             No          Yes              Yes   \n",
       "\n",
       "  TechSupport StreamingTV StreamingMovies        Contract PaperlessBilling  \\\n",
       "0         Yes         Yes             Yes        One year              Yes   \n",
       "1          No         Yes             Yes        Two year              Yes   \n",
       "2          No          No              No  Month-to-month              Yes   \n",
       "3          No          No              No  Month-to-month              Yes   \n",
       "4          No          No             Yes        One year              Yes   \n",
       "\n",
       "               PaymentMethod  MonthlyCharges TotalCharges  \n",
       "0  Bank transfer (automatic)           79.85      3320.75  \n",
       "1  Bank transfer (automatic)          102.40      6471.85  \n",
       "2  Bank transfer (automatic)           45.00       524.35  \n",
       "3               Mailed check           50.60       249.95  \n",
       "4               Mailed check           65.90       660.05  "
      ]
     },
     "execution_count": 293,
     "metadata": {},
     "output_type": "execute_result"
    }
   ],
   "source": [
    "df_test=pd.read_csv('Churn_test.csv')\n",
    "df_test.head()"
   ]
  },
  {
   "cell_type": "code",
   "execution_count": 294,
   "id": "68d4296b",
   "metadata": {},
   "outputs": [],
   "source": [
    "df_test.drop(columns=['customerID','MonthlyCharges','TotalCharges'],inplace=True)"
   ]
  },
  {
   "cell_type": "code",
   "execution_count": 295,
   "id": "eeedc403",
   "metadata": {},
   "outputs": [],
   "source": [
    "#change the 'No phone/internet service' to 'No', because it's not adding any new informaion\n",
    "df_test=df_test.replace(to_replace='No internet service',value='No')\n",
    "df_test=df_test.replace(to_replace='No phone service',value='No')"
   ]
  },
  {
   "cell_type": "code",
   "execution_count": 296,
   "id": "3e2f7db9",
   "metadata": {},
   "outputs": [],
   "source": [
    "df_test['PaymentMethod']=df_test['PaymentMethod'].replace(to_replace='Bank transfer (automatic)',value='Bank transfer')\n",
    "df_test['PaymentMethod']=df_test['PaymentMethod'].replace(to_replace='Credit card (automatic)',value='Credit card')"
   ]
  },
  {
   "cell_type": "code",
   "execution_count": 297,
   "id": "90b5b1ee",
   "metadata": {},
   "outputs": [],
   "source": [
    "cols3=['gender','Partner','Dependents','PhoneService','MultipleLines','InternetService','OnlineSecurity','OnlineBackup',\n",
    "     'DeviceProtection','TechSupport','StreamingTV','StreamingMovies','PaperlessBilling']"
   ]
  },
  {
   "cell_type": "code",
   "execution_count": 298,
   "id": "e61addbd",
   "metadata": {},
   "outputs": [],
   "source": [
    "data_encode_test=df_test[cols3].apply(le.fit_transform)"
   ]
  },
  {
   "cell_type": "code",
   "execution_count": 299,
   "id": "76d1b106",
   "metadata": {},
   "outputs": [],
   "source": [
    "df_test.drop(columns=cols3,inplace=True)"
   ]
  },
  {
   "cell_type": "code",
   "execution_count": 300,
   "id": "3bf9c9b5",
   "metadata": {},
   "outputs": [],
   "source": [
    "df_test=df_test.join(data_encode_test[cols3])"
   ]
  },
  {
   "cell_type": "code",
   "execution_count": 301,
   "id": "3f979451",
   "metadata": {},
   "outputs": [
    {
     "data": {
      "text/html": [
       "<div>\n",
       "<style scoped>\n",
       "    .dataframe tbody tr th:only-of-type {\n",
       "        vertical-align: middle;\n",
       "    }\n",
       "\n",
       "    .dataframe tbody tr th {\n",
       "        vertical-align: top;\n",
       "    }\n",
       "\n",
       "    .dataframe thead th {\n",
       "        text-align: right;\n",
       "    }\n",
       "</style>\n",
       "<table border=\"1\" class=\"dataframe\">\n",
       "  <thead>\n",
       "    <tr style=\"text-align: right;\">\n",
       "      <th></th>\n",
       "      <th>SeniorCitizen</th>\n",
       "      <th>tenure</th>\n",
       "      <th>Contract</th>\n",
       "      <th>PaymentMethod</th>\n",
       "      <th>gender</th>\n",
       "      <th>Partner</th>\n",
       "      <th>Dependents</th>\n",
       "      <th>PhoneService</th>\n",
       "      <th>MultipleLines</th>\n",
       "      <th>InternetService</th>\n",
       "      <th>OnlineSecurity</th>\n",
       "      <th>OnlineBackup</th>\n",
       "      <th>DeviceProtection</th>\n",
       "      <th>TechSupport</th>\n",
       "      <th>StreamingTV</th>\n",
       "      <th>StreamingMovies</th>\n",
       "      <th>PaperlessBilling</th>\n",
       "    </tr>\n",
       "  </thead>\n",
       "  <tbody>\n",
       "    <tr>\n",
       "      <th>1214</th>\n",
       "      <td>0</td>\n",
       "      <td>52</td>\n",
       "      <td>Month-to-month</td>\n",
       "      <td>Electronic check</td>\n",
       "      <td>1</td>\n",
       "      <td>1</td>\n",
       "      <td>0</td>\n",
       "      <td>0</td>\n",
       "      <td>0</td>\n",
       "      <td>0</td>\n",
       "      <td>1</td>\n",
       "      <td>0</td>\n",
       "      <td>0</td>\n",
       "      <td>0</td>\n",
       "      <td>0</td>\n",
       "      <td>1</td>\n",
       "      <td>1</td>\n",
       "    </tr>\n",
       "    <tr>\n",
       "      <th>1040</th>\n",
       "      <td>0</td>\n",
       "      <td>22</td>\n",
       "      <td>Month-to-month</td>\n",
       "      <td>Mailed check</td>\n",
       "      <td>1</td>\n",
       "      <td>0</td>\n",
       "      <td>0</td>\n",
       "      <td>1</td>\n",
       "      <td>0</td>\n",
       "      <td>1</td>\n",
       "      <td>0</td>\n",
       "      <td>1</td>\n",
       "      <td>0</td>\n",
       "      <td>0</td>\n",
       "      <td>1</td>\n",
       "      <td>1</td>\n",
       "      <td>1</td>\n",
       "    </tr>\n",
       "    <tr>\n",
       "      <th>255</th>\n",
       "      <td>0</td>\n",
       "      <td>28</td>\n",
       "      <td>Month-to-month</td>\n",
       "      <td>Bank transfer</td>\n",
       "      <td>0</td>\n",
       "      <td>0</td>\n",
       "      <td>0</td>\n",
       "      <td>1</td>\n",
       "      <td>0</td>\n",
       "      <td>0</td>\n",
       "      <td>0</td>\n",
       "      <td>0</td>\n",
       "      <td>1</td>\n",
       "      <td>0</td>\n",
       "      <td>1</td>\n",
       "      <td>0</td>\n",
       "      <td>1</td>\n",
       "    </tr>\n",
       "  </tbody>\n",
       "</table>\n",
       "</div>"
      ],
      "text/plain": [
       "      SeniorCitizen  tenure        Contract     PaymentMethod  gender  \\\n",
       "1214              0      52  Month-to-month  Electronic check       1   \n",
       "1040              0      22  Month-to-month      Mailed check       1   \n",
       "255               0      28  Month-to-month     Bank transfer       0   \n",
       "\n",
       "      Partner  Dependents  PhoneService  MultipleLines  InternetService  \\\n",
       "1214        1           0             0              0                0   \n",
       "1040        0           0             1              0                1   \n",
       "255         0           0             1              0                0   \n",
       "\n",
       "      OnlineSecurity  OnlineBackup  DeviceProtection  TechSupport  \\\n",
       "1214               1             0                 0            0   \n",
       "1040               0             1                 0            0   \n",
       "255                0             0                 1            0   \n",
       "\n",
       "      StreamingTV  StreamingMovies  PaperlessBilling  \n",
       "1214            0                1                 1  \n",
       "1040            1                1                 1  \n",
       "255             1                0                 1  "
      ]
     },
     "execution_count": 301,
     "metadata": {},
     "output_type": "execute_result"
    }
   ],
   "source": [
    "df_test.sample(n=3)"
   ]
  },
  {
   "cell_type": "code",
   "execution_count": 302,
   "id": "59ccf74d",
   "metadata": {},
   "outputs": [],
   "source": [
    "df_test=pd.get_dummies(df_test,columns=['Contract','PaymentMethod'],drop_first=True)"
   ]
  },
  {
   "cell_type": "code",
   "execution_count": 303,
   "id": "31d1f658",
   "metadata": {},
   "outputs": [
    {
     "data": {
      "text/html": [
       "<div>\n",
       "<style scoped>\n",
       "    .dataframe tbody tr th:only-of-type {\n",
       "        vertical-align: middle;\n",
       "    }\n",
       "\n",
       "    .dataframe tbody tr th {\n",
       "        vertical-align: top;\n",
       "    }\n",
       "\n",
       "    .dataframe thead th {\n",
       "        text-align: right;\n",
       "    }\n",
       "</style>\n",
       "<table border=\"1\" class=\"dataframe\">\n",
       "  <thead>\n",
       "    <tr style=\"text-align: right;\">\n",
       "      <th></th>\n",
       "      <th>SeniorCitizen</th>\n",
       "      <th>tenure</th>\n",
       "      <th>gender</th>\n",
       "      <th>Partner</th>\n",
       "      <th>Dependents</th>\n",
       "      <th>PhoneService</th>\n",
       "      <th>MultipleLines</th>\n",
       "      <th>InternetService</th>\n",
       "      <th>OnlineSecurity</th>\n",
       "      <th>OnlineBackup</th>\n",
       "      <th>DeviceProtection</th>\n",
       "      <th>TechSupport</th>\n",
       "      <th>StreamingTV</th>\n",
       "      <th>StreamingMovies</th>\n",
       "      <th>PaperlessBilling</th>\n",
       "      <th>Contract_One year</th>\n",
       "      <th>Contract_Two year</th>\n",
       "      <th>PaymentMethod_Credit card</th>\n",
       "      <th>PaymentMethod_Electronic check</th>\n",
       "      <th>PaymentMethod_Mailed check</th>\n",
       "    </tr>\n",
       "  </thead>\n",
       "  <tbody>\n",
       "    <tr>\n",
       "      <th>547</th>\n",
       "      <td>0</td>\n",
       "      <td>1</td>\n",
       "      <td>1</td>\n",
       "      <td>0</td>\n",
       "      <td>0</td>\n",
       "      <td>1</td>\n",
       "      <td>0</td>\n",
       "      <td>1</td>\n",
       "      <td>0</td>\n",
       "      <td>0</td>\n",
       "      <td>0</td>\n",
       "      <td>0</td>\n",
       "      <td>0</td>\n",
       "      <td>0</td>\n",
       "      <td>1</td>\n",
       "      <td>0</td>\n",
       "      <td>0</td>\n",
       "      <td>0</td>\n",
       "      <td>1</td>\n",
       "      <td>0</td>\n",
       "    </tr>\n",
       "    <tr>\n",
       "      <th>586</th>\n",
       "      <td>0</td>\n",
       "      <td>60</td>\n",
       "      <td>1</td>\n",
       "      <td>1</td>\n",
       "      <td>1</td>\n",
       "      <td>1</td>\n",
       "      <td>0</td>\n",
       "      <td>0</td>\n",
       "      <td>1</td>\n",
       "      <td>1</td>\n",
       "      <td>1</td>\n",
       "      <td>0</td>\n",
       "      <td>0</td>\n",
       "      <td>0</td>\n",
       "      <td>0</td>\n",
       "      <td>0</td>\n",
       "      <td>1</td>\n",
       "      <td>0</td>\n",
       "      <td>0</td>\n",
       "      <td>0</td>\n",
       "    </tr>\n",
       "    <tr>\n",
       "      <th>497</th>\n",
       "      <td>0</td>\n",
       "      <td>53</td>\n",
       "      <td>0</td>\n",
       "      <td>1</td>\n",
       "      <td>0</td>\n",
       "      <td>1</td>\n",
       "      <td>0</td>\n",
       "      <td>1</td>\n",
       "      <td>0</td>\n",
       "      <td>0</td>\n",
       "      <td>0</td>\n",
       "      <td>1</td>\n",
       "      <td>1</td>\n",
       "      <td>1</td>\n",
       "      <td>1</td>\n",
       "      <td>1</td>\n",
       "      <td>0</td>\n",
       "      <td>0</td>\n",
       "      <td>1</td>\n",
       "      <td>0</td>\n",
       "    </tr>\n",
       "  </tbody>\n",
       "</table>\n",
       "</div>"
      ],
      "text/plain": [
       "     SeniorCitizen  tenure  gender  Partner  Dependents  PhoneService  \\\n",
       "547              0       1       1        0           0             1   \n",
       "586              0      60       1        1           1             1   \n",
       "497              0      53       0        1           0             1   \n",
       "\n",
       "     MultipleLines  InternetService  OnlineSecurity  OnlineBackup  \\\n",
       "547              0                1               0             0   \n",
       "586              0                0               1             1   \n",
       "497              0                1               0             0   \n",
       "\n",
       "     DeviceProtection  TechSupport  StreamingTV  StreamingMovies  \\\n",
       "547                 0            0            0                0   \n",
       "586                 1            0            0                0   \n",
       "497                 0            1            1                1   \n",
       "\n",
       "     PaperlessBilling  Contract_One year  Contract_Two year  \\\n",
       "547                 1                  0                  0   \n",
       "586                 0                  0                  1   \n",
       "497                 1                  1                  0   \n",
       "\n",
       "     PaymentMethod_Credit card  PaymentMethod_Electronic check  \\\n",
       "547                          0                               1   \n",
       "586                          0                               0   \n",
       "497                          0                               1   \n",
       "\n",
       "     PaymentMethod_Mailed check  \n",
       "547                           0  \n",
       "586                           0  \n",
       "497                           0  "
      ]
     },
     "execution_count": 303,
     "metadata": {},
     "output_type": "execute_result"
    }
   ],
   "source": [
    "df_test.sample(n=3)"
   ]
  },
  {
   "cell_type": "markdown",
   "id": "3de83350",
   "metadata": {},
   "source": [
    "#### Logistic Regression"
   ]
  },
  {
   "cell_type": "code",
   "execution_count": 304,
   "id": "53196732",
   "metadata": {},
   "outputs": [
    {
     "data": {
      "text/plain": [
       "LogisticRegression()"
      ]
     },
     "execution_count": 304,
     "metadata": {},
     "output_type": "execute_result"
    }
   ],
   "source": [
    "lr.fit(X_train,y_train)"
   ]
  },
  {
   "cell_type": "code",
   "execution_count": 305,
   "id": "c58bad0e",
   "metadata": {},
   "outputs": [],
   "source": [
    "lr_predictions1=lr.predict(X_test)"
   ]
  },
  {
   "cell_type": "code",
   "execution_count": 306,
   "id": "b7e52be8",
   "metadata": {},
   "outputs": [
    {
     "name": "stdout",
     "output_type": "stream",
     "text": [
      "[[749  65]\n",
      " [163 150]]\n",
      "              precision    recall  f1-score   support\n",
      "\n",
      "           0       0.82      0.92      0.87       814\n",
      "           1       0.70      0.48      0.57       313\n",
      "\n",
      "    accuracy                           0.80      1127\n",
      "   macro avg       0.76      0.70      0.72      1127\n",
      "weighted avg       0.79      0.80      0.78      1127\n",
      "\n",
      "Accuracy Score 0.7976929902395741\n"
     ]
    }
   ],
   "source": [
    "print(confusion_matrix(y_test,lr_predictions1))\n",
    "print(classification_report(y_test,lr_predictions1))\n",
    "print(\"Accuracy Score {}\".format(accuracy_score(y_test,lr_predictions1)))"
   ]
  },
  {
   "cell_type": "markdown",
   "id": "4733b65e",
   "metadata": {},
   "source": [
    "#### Decision Tree"
   ]
  },
  {
   "cell_type": "code",
   "execution_count": 307,
   "id": "2a8ce4ed",
   "metadata": {},
   "outputs": [
    {
     "data": {
      "text/plain": [
       "DecisionTreeClassifier()"
      ]
     },
     "execution_count": 307,
     "metadata": {},
     "output_type": "execute_result"
    }
   ],
   "source": [
    "dtc.fit(X_train,y_train)"
   ]
  },
  {
   "cell_type": "code",
   "execution_count": 308,
   "id": "cf9e8340",
   "metadata": {},
   "outputs": [],
   "source": [
    "dt_predictions=dtc.predict(X_test)"
   ]
  },
  {
   "cell_type": "code",
   "execution_count": 309,
   "id": "d17ff39b",
   "metadata": {},
   "outputs": [
    {
     "name": "stdout",
     "output_type": "stream",
     "text": [
      "[[663 151]\n",
      " [151 162]]\n",
      "              precision    recall  f1-score   support\n",
      "\n",
      "           0       0.81      0.81      0.81       814\n",
      "           1       0.52      0.52      0.52       313\n",
      "\n",
      "    accuracy                           0.73      1127\n",
      "   macro avg       0.67      0.67      0.67      1127\n",
      "weighted avg       0.73      0.73      0.73      1127\n",
      "\n",
      "Accuracy Score 0.7320319432120674\n"
     ]
    }
   ],
   "source": [
    "print(confusion_matrix(y_test,dt_predictions))\n",
    "print(classification_report(y_test,dt_predictions))\n",
    "print(\"Accuracy Score {}\".format(accuracy_score(y_test,dt_predictions)))"
   ]
  },
  {
   "cell_type": "markdown",
   "id": "3d33f2d2",
   "metadata": {},
   "source": [
    "#### Random Forest"
   ]
  },
  {
   "cell_type": "code",
   "execution_count": 310,
   "id": "86875b4b",
   "metadata": {},
   "outputs": [
    {
     "data": {
      "text/plain": [
       "RandomForestClassifier()"
      ]
     },
     "execution_count": 310,
     "metadata": {},
     "output_type": "execute_result"
    }
   ],
   "source": [
    "rfc.fit(X_train,y_train)"
   ]
  },
  {
   "cell_type": "code",
   "execution_count": 311,
   "id": "073e3890",
   "metadata": {},
   "outputs": [],
   "source": [
    "rf_predictions=rfc.predict(X_test)"
   ]
  },
  {
   "cell_type": "code",
   "execution_count": 312,
   "id": "6237377b",
   "metadata": {},
   "outputs": [
    {
     "name": "stdout",
     "output_type": "stream",
     "text": [
      "[[743  71]\n",
      " [165 148]]\n",
      "              precision    recall  f1-score   support\n",
      "\n",
      "           0       0.82      0.91      0.86       814\n",
      "           1       0.68      0.47      0.56       313\n",
      "\n",
      "    accuracy                           0.79      1127\n",
      "   macro avg       0.75      0.69      0.71      1127\n",
      "weighted avg       0.78      0.79      0.78      1127\n",
      "\n",
      "Accuracy Score 0.7905944986690329\n"
     ]
    }
   ],
   "source": [
    "print(confusion_matrix(y_test,rf_predictions))\n",
    "print(classification_report(y_test,rf_predictions))\n",
    "print(\"Accuracy Score {}\".format(accuracy_score(y_test,rf_predictions)))"
   ]
  },
  {
   "cell_type": "markdown",
   "id": "5678d2a0",
   "metadata": {},
   "source": [
    "#### Randomized Search Cv - Random Forest"
   ]
  },
  {
   "cell_type": "code",
   "execution_count": 313,
   "id": "af6fad71",
   "metadata": {},
   "outputs": [
    {
     "name": "stdout",
     "output_type": "stream",
     "text": [
      "Fitting 3 folds for each of 100 candidates, totalling 300 fits\n"
     ]
    },
    {
     "data": {
      "text/plain": [
       "RandomizedSearchCV(cv=3, estimator=RandomForestClassifier(), n_iter=100,\n",
       "                   n_jobs=-1,\n",
       "                   param_distributions={'criterion': ['entropy', 'gini'],\n",
       "                                        'max_depth': [10, 120, 230, 340, 450,\n",
       "                                                      560, 670, 780, 890,\n",
       "                                                      1000],\n",
       "                                        'max_features': ['auto', 'sqrt',\n",
       "                                                         'log2'],\n",
       "                                        'min_samples_leaf': [1, 2, 4, 6, 8],\n",
       "                                        'min_samples_split': [2, 5, 10, 14],\n",
       "                                        'n_estimators': [200, 400, 600, 800,\n",
       "                                                         1000, 1200, 1400, 1600,\n",
       "                                                         1800, 2000]},\n",
       "                   random_state=100, verbose=2)"
      ]
     },
     "execution_count": 313,
     "metadata": {},
     "output_type": "execute_result"
    }
   ],
   "source": [
    "rf_randomcv1=RandomizedSearchCV(estimator=rfc,param_distributions=random_grid,n_iter=100,cv=3,verbose=2,\n",
    "                               random_state=100,n_jobs=-1)\n",
    "### fit the randomized model\n",
    "rf_randomcv1.fit(X_train,y_train)"
   ]
  },
  {
   "cell_type": "code",
   "execution_count": 314,
   "id": "bf4c5456",
   "metadata": {},
   "outputs": [
    {
     "data": {
      "text/plain": [
       "{'n_estimators': 200,\n",
       " 'min_samples_split': 14,\n",
       " 'min_samples_leaf': 6,\n",
       " 'max_features': 'sqrt',\n",
       " 'max_depth': 10,\n",
       " 'criterion': 'entropy'}"
      ]
     },
     "execution_count": 314,
     "metadata": {},
     "output_type": "execute_result"
    }
   ],
   "source": [
    "rf_randomcv1.best_params_"
   ]
  },
  {
   "cell_type": "code",
   "execution_count": 315,
   "id": "e4112065",
   "metadata": {},
   "outputs": [],
   "source": [
    "best_random_grid1=rf_randomcv1.best_estimator_"
   ]
  },
  {
   "cell_type": "code",
   "execution_count": 316,
   "id": "91558a8e",
   "metadata": {},
   "outputs": [],
   "source": [
    "rf_predictions_rs1=best_random_grid1.predict(X_test)"
   ]
  },
  {
   "cell_type": "code",
   "execution_count": 317,
   "id": "4b2a14a9",
   "metadata": {},
   "outputs": [
    {
     "name": "stdout",
     "output_type": "stream",
     "text": [
      "[[763  51]\n",
      " [161 152]]\n",
      "              precision    recall  f1-score   support\n",
      "\n",
      "           0       0.83      0.94      0.88       814\n",
      "           1       0.75      0.49      0.59       313\n",
      "\n",
      "    accuracy                           0.81      1127\n",
      "   macro avg       0.79      0.71      0.73      1127\n",
      "weighted avg       0.80      0.81      0.80      1127\n",
      "\n",
      "Accuracy Score 0.8118899733806566\n"
     ]
    }
   ],
   "source": [
    "print(confusion_matrix(y_test,rf_predictions_rs1))\n",
    "print(classification_report(y_test,rf_predictions_rs1))\n",
    "print(\"Accuracy Score {}\".format(accuracy_score(y_test,rf_predictions_rs1)))"
   ]
  },
  {
   "cell_type": "markdown",
   "id": "400fceba",
   "metadata": {},
   "source": [
    "#### Predicting for Test dataset with RandomForest with Randomized Search as I got best Accuracy score for this"
   ]
  },
  {
   "cell_type": "code",
   "execution_count": 318,
   "id": "0a0818f8",
   "metadata": {},
   "outputs": [],
   "source": [
    "predictions1=best_random_grid1.predict(df_test)"
   ]
  },
  {
   "cell_type": "code",
   "execution_count": 319,
   "id": "072b6c14",
   "metadata": {},
   "outputs": [],
   "source": [
    "prediction1 = pd.DataFrame(predictions1, columns=['predictions']).to_csv('prediction1.csv',index=False,header=False)"
   ]
  },
  {
   "cell_type": "code",
   "execution_count": 320,
   "id": "3842511f",
   "metadata": {},
   "outputs": [],
   "source": [
    "df=pd.DataFrame(predictions1, columns=['predictions'])"
   ]
  },
  {
   "cell_type": "code",
   "execution_count": 321,
   "id": "580ce1cc",
   "metadata": {},
   "outputs": [],
   "source": [
    "df=df.replace(to_replace=1,value='Yes')\n",
    "df=df.replace(to_replace=0,value='No')"
   ]
  },
  {
   "cell_type": "code",
   "execution_count": 322,
   "id": "89d6a198",
   "metadata": {},
   "outputs": [],
   "source": [
    "df = df.to_csv('prediction1.csv')"
   ]
  },
  {
   "cell_type": "code",
   "execution_count": null,
   "id": "a87f53c7",
   "metadata": {},
   "outputs": [],
   "source": []
  }
 ],
 "metadata": {
  "kernelspec": {
   "display_name": "Python 3 (ipykernel)",
   "language": "python",
   "name": "python3"
  },
  "language_info": {
   "codemirror_mode": {
    "name": "ipython",
    "version": 3
   },
   "file_extension": ".py",
   "mimetype": "text/x-python",
   "name": "python",
   "nbconvert_exporter": "python",
   "pygments_lexer": "ipython3",
   "version": "3.8.12"
  }
 },
 "nbformat": 4,
 "nbformat_minor": 5
}
